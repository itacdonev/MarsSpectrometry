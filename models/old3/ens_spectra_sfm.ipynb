{
 "cells": [
  {
   "cell_type": "code",
   "execution_count": 1,
   "metadata": {},
   "outputs": [],
   "source": [
    "%reload_ext autoreload\n",
    "%autoreload 2\n",
    "\n",
    "%matplotlib inline\n",
    "%config InlineBackend.figure_format = 'retina'"
   ]
  },
  {
   "cell_type": "code",
   "execution_count": 10,
   "metadata": {},
   "outputs": [],
   "source": [
    "## Environment\n",
    "# Change main system path to be able to run code from src folder\n",
    "import sys\n",
    "p = sys.path[0]\n",
    "# Mac OS\n",
    "if sys.path[0].endswith('/models'):\n",
    "    main_path = p[:-len('/models')]\n",
    "sys.path[0] = main_path\n",
    "\n",
    "import os, gc\n",
    "from termcolor import colored\n",
    "import pandas as pd\n",
    "import numpy as np\n",
    "import joblib\n",
    "from src import config, training, feature_selection"
   ]
  },
  {
   "cell_type": "code",
   "execution_count": 3,
   "metadata": {},
   "outputs": [
    {
     "name": "stdout",
     "output_type": "stream",
     "text": [
      "Metadata: (1570, 5)\n",
      "Train labels: (766, 11)\n",
      "Train labels: (293, 11)\n",
      "Submission: (804, 11)\n",
      "['basalt', 'carbonate', 'chloride', 'iron_oxide', 'oxalate', 'oxychlorine', 'phyllosilicate', 'silicate', 'sulfate', 'sulfide']\n",
      "Labels w/o SAM : (1047, 11)\n"
     ]
    }
   ],
   "source": [
    "# DATA PREPARATION\n",
    "# ===== LOAD DATA ======\n",
    "metadata = pd.read_csv(config.DATA_DIR + 'metadata.csv')\n",
    "print(f'Metadata: {metadata.shape}')\n",
    "\n",
    "train_labels = pd.read_csv(config.DATA_DIR + 'train_labels.csv')\n",
    "print(f'Train labels: {train_labels.shape}')\n",
    "\n",
    "valid_labels = pd.read_csv(config.DATA_DIR + 'val_labels.csv')\n",
    "print(f'Train labels: {valid_labels.shape}')\n",
    "\n",
    "# Combine train and valid labels\n",
    "trvl_labels = pd.concat([train_labels, valid_labels], axis = 0)\n",
    "\n",
    "submission = pd.read_csv(config.DATA_DIR + 'submission_format.csv')\n",
    "print(f'Submission: {submission.shape}')\n",
    "\n",
    "# ===== FILE PATHS OF SAMPLES =====\n",
    "train_files = metadata[metadata.split == 'train']['features_path'].to_dict()\n",
    "valid_files = metadata[metadata.split == 'val']['features_path'].to_dict()\n",
    "test_files = metadata[metadata.split == 'test']['features_path'].to_dict()\n",
    "# Train & Valid files\n",
    "trva_files = train_files.copy()\n",
    "trva_files.update(valid_files)\n",
    "# All files\n",
    "all_test_files = valid_files.copy()\n",
    "all_test_files.update(test_files)\n",
    "\n",
    "# Define SAM testbed files\n",
    "sam_files = metadata[(metadata.instrument_type == 'sam_testbed') & (metadata.split == 'train')]['features_path']\n",
    "sam_files = sam_files.to_dict()\n",
    "\n",
    "# Get the names of the target columns in a list\n",
    "target_labels_list = [i for i in train_labels.columns if i not in ['sample_id']]\n",
    "print(target_labels_list)\n",
    "\n",
    "# SAM testbed labels\n",
    "sam_labels = train_labels.drop(train_labels.tail(len(sam_files)).index)\n",
    "sam_labels = pd.concat([sam_labels, valid_labels], axis=0)\n",
    "print(f'Labels w/o SAM : {sam_labels.shape}')"
   ]
  },
  {
   "cell_type": "code",
   "execution_count": 33,
   "metadata": {},
   "outputs": [],
   "source": [
    "SUB_NAME = 'ens_spectra'"
   ]
  },
  {
   "cell_type": "code",
   "execution_count": 28,
   "metadata": {},
   "outputs": [],
   "source": [
    "def ens_model(label):\n",
    "    if label == 'oxalate':\n",
    "        MODEL_CLF = 'fts_mra_tempmz_LR_reg_trvl_' + label + '.joblib.dat'\n",
    "        FTS_NAME = 'fts_mra_tempmz'\n",
    "        return MODEL_CLF, FTS_NAME, None\n",
    "    \n",
    "    elif label == ['sulfate', 'iron-oxide']:\n",
    "        MODEL_CLF = 'fts_mra_tempmz_slope_XGB_opt_tr_sfm_' + label + '.joblib.dat'\n",
    "        FTS_NAME = 'fts_mra_tempmz_slope'\n",
    "        path_fts = os.path.join(config.MODELS_DIR, \n",
    "                                'fts_mra_tempmz_slope_tr_SFM_COLS.txt')\n",
    "        SFM_COLUMNS = feature_selection.load_features(path_fts)\n",
    "        return MODEL_CLF, FTS_NAME, SFM_COLUMNS\n",
    "    \n",
    "    elif label in ['oxychlorine']:\n",
    "        MODEL_CLF = 'fts_mra_tempmz_slope_cntpk_XGB_opt_tr_sfm_' + label + '.joblib.dat'\n",
    "        FTS_NAME = 'fts_mra_tempmz_slope_cntpk'\n",
    "        path_fts = os.path.join(config.MODELS_DIR, \n",
    "                                'fts_mra_tempmz_slope_cntpk_tr_SFM_COLS.txt')\n",
    "        SFM_COLUMNS = feature_selection.load_features(path_fts)\n",
    "        return MODEL_CLF, FTS_NAME, SFM_COLUMNS\n",
    "    \n",
    "    elif label == 'phyllosilicate':\n",
    "        MODEL_CLF = 'fts_mra_tempmz_cntpk_mratt_slope_corrmz4_XGB_opt_tr_' + label + '.joblib.dat'\n",
    "        FTS_NAME = 'fts_mra_tempmz_cntpk_mratt_slope_corrmz4'\n",
    "        return MODEL_CLF, FTS_NAME, None\n",
    "    \n",
    "    elif label == 'carbonate':\n",
    "        MODEL_CLF = 'fts_mra_tempmz_XGB_opt_tr_sfm_' + label + '.joblib.dat'\n",
    "        FTS_NAME = 'fts_mra_tempmz'\n",
    "        path_fts = os.path.join(config.MODELS_DIR, \n",
    "                                'fts_mra_tempmz_tr_SFM_COLS.txt')\n",
    "        SFM_COLUMNS = feature_selection.load_features(path_fts)\n",
    "        return MODEL_CLF, FTS_NAME, SFM_COLUMNS\n",
    "    \n",
    "    else:\n",
    "        MODEL_CLF = 'fts_mra_tempmz_cntpk_mratt_slope_spectra_XGB_opt_tr_sfm_' + label + '.joblib.dat'\n",
    "        FTS_NAME = 'fts_mra_tempmz_cntpk_mratt_slope_spectra'\n",
    "        \n",
    "        path_fts = os.path.join(config.MODELS_DIR, \n",
    "                                'fts_mra_tempmz_cntpk_mratt_slope_spectra_tr_SFM_COLS.txt')\n",
    "        SFM_COLUMNS = feature_selection.load_features(path_fts)\n",
    "        \n",
    "        return MODEL_CLF, FTS_NAME, SFM_COLUMNS"
   ]
  },
  {
   "cell_type": "code",
   "execution_count": 31,
   "metadata": {},
   "outputs": [
    {
     "name": "stdout",
     "output_type": "stream",
     "text": [
      "basalt\n",
      "Valid & Test: (804, 143)\n",
      "carbonate\n"
     ]
    },
    {
     "name": "stderr",
     "output_type": "stream",
     "text": [
      "/Users/itacdonev/opt/miniconda3/envs/nasamars/lib/python3.9/site-packages/xgboost/data.py:262: FutureWarning: pandas.Int64Index is deprecated and will be removed from pandas in a future version. Use pandas.Index with the appropriate dtype instead.\n",
      "  elif isinstance(data.columns, (pd.Int64Index, pd.RangeIndex)):\n"
     ]
    },
    {
     "name": "stdout",
     "output_type": "stream",
     "text": [
      "Valid & Test: (804, 126)\n",
      "chloride\n"
     ]
    },
    {
     "name": "stderr",
     "output_type": "stream",
     "text": [
      "/Users/itacdonev/opt/miniconda3/envs/nasamars/lib/python3.9/site-packages/xgboost/data.py:262: FutureWarning: pandas.Int64Index is deprecated and will be removed from pandas in a future version. Use pandas.Index with the appropriate dtype instead.\n",
      "  elif isinstance(data.columns, (pd.Int64Index, pd.RangeIndex)):\n"
     ]
    },
    {
     "name": "stdout",
     "output_type": "stream",
     "text": [
      "Valid & Test: (804, 108)\n",
      "iron_oxide\n"
     ]
    },
    {
     "name": "stderr",
     "output_type": "stream",
     "text": [
      "/Users/itacdonev/opt/miniconda3/envs/nasamars/lib/python3.9/site-packages/xgboost/data.py:262: FutureWarning: pandas.Int64Index is deprecated and will be removed from pandas in a future version. Use pandas.Index with the appropriate dtype instead.\n",
      "  elif isinstance(data.columns, (pd.Int64Index, pd.RangeIndex)):\n"
     ]
    },
    {
     "name": "stdout",
     "output_type": "stream",
     "text": [
      "Valid & Test: (804, 159)\n",
      "oxalate\n"
     ]
    },
    {
     "name": "stderr",
     "output_type": "stream",
     "text": [
      "/Users/itacdonev/opt/miniconda3/envs/nasamars/lib/python3.9/site-packages/xgboost/data.py:262: FutureWarning: pandas.Int64Index is deprecated and will be removed from pandas in a future version. Use pandas.Index with the appropriate dtype instead.\n",
      "  elif isinstance(data.columns, (pd.Int64Index, pd.RangeIndex)):\n"
     ]
    },
    {
     "name": "stdout",
     "output_type": "stream",
     "text": [
      "Valid & Test: (804, 1584)\n",
      "oxychlorine\n",
      "Valid & Test: (804, 427)\n",
      "phyllosilicate\n"
     ]
    },
    {
     "name": "stderr",
     "output_type": "stream",
     "text": [
      "/Users/itacdonev/opt/miniconda3/envs/nasamars/lib/python3.9/site-packages/xgboost/data.py:262: FutureWarning: pandas.Int64Index is deprecated and will be removed from pandas in a future version. Use pandas.Index with the appropriate dtype instead.\n",
      "  elif isinstance(data.columns, (pd.Int64Index, pd.RangeIndex)):\n"
     ]
    },
    {
     "name": "stdout",
     "output_type": "stream",
     "text": [
      "Valid & Test: (804, 1982)\n",
      "silicate\n"
     ]
    },
    {
     "name": "stderr",
     "output_type": "stream",
     "text": [
      "/Users/itacdonev/opt/miniconda3/envs/nasamars/lib/python3.9/site-packages/xgboost/data.py:262: FutureWarning: pandas.Int64Index is deprecated and will be removed from pandas in a future version. Use pandas.Index with the appropriate dtype instead.\n",
      "  elif isinstance(data.columns, (pd.Int64Index, pd.RangeIndex)):\n"
     ]
    },
    {
     "name": "stdout",
     "output_type": "stream",
     "text": [
      "Valid & Test: (804, 263)\n",
      "sulfate\n"
     ]
    },
    {
     "name": "stderr",
     "output_type": "stream",
     "text": [
      "/Users/itacdonev/opt/miniconda3/envs/nasamars/lib/python3.9/site-packages/xgboost/data.py:262: FutureWarning: pandas.Int64Index is deprecated and will be removed from pandas in a future version. Use pandas.Index with the appropriate dtype instead.\n",
      "  elif isinstance(data.columns, (pd.Int64Index, pd.RangeIndex)):\n"
     ]
    },
    {
     "name": "stdout",
     "output_type": "stream",
     "text": [
      "Valid & Test: (804, 231)\n",
      "sulfide\n"
     ]
    },
    {
     "name": "stderr",
     "output_type": "stream",
     "text": [
      "/Users/itacdonev/opt/miniconda3/envs/nasamars/lib/python3.9/site-packages/xgboost/data.py:262: FutureWarning: pandas.Int64Index is deprecated and will be removed from pandas in a future version. Use pandas.Index with the appropriate dtype instead.\n",
      "  elif isinstance(data.columns, (pd.Int64Index, pd.RangeIndex)):\n"
     ]
    },
    {
     "name": "stdout",
     "output_type": "stream",
     "text": [
      "Valid & Test: (804, 41)\n"
     ]
    },
    {
     "name": "stderr",
     "output_type": "stream",
     "text": [
      "/Users/itacdonev/opt/miniconda3/envs/nasamars/lib/python3.9/site-packages/xgboost/data.py:262: FutureWarning: pandas.Int64Index is deprecated and will be removed from pandas in a future version. Use pandas.Index with the appropriate dtype instead.\n",
      "  elif isinstance(data.columns, (pd.Int64Index, pd.RangeIndex)):\n"
     ]
    }
   ],
   "source": [
    "for label in target_labels_list:\n",
    "    print(label)\n",
    "    MODEL_CLF, FTS_NAME, SFM_COLUMNS = ens_model(label)\n",
    "    VT_SAMPLE = FTS_NAME + '_vlte.csv'\n",
    "    # Load saved model\n",
    "    clf = joblib.load(os.path.join(config.MODELS_DIR, MODEL_CLF))\n",
    "    \n",
    "    # Load valid & test data set\n",
    "    X_vlte = pd.read_csv(os.path.join(config.DATA_DIR_OUT,VT_SAMPLE))\n",
    "    if SFM_COLUMNS:\n",
    "        X_vlte = X_vlte[SFM_COLUMNS[label]]\n",
    "    print(f'Valid & Test: {X_vlte.shape}')\n",
    "    \n",
    "    submission[label] = clf.predict_proba(X_vlte)[:,1]"
   ]
  },
  {
   "cell_type": "code",
   "execution_count": 34,
   "metadata": {},
   "outputs": [
    {
     "name": "stdout",
     "output_type": "stream",
     "text": [
      "(293, 11)\n",
      "0.15123639765849056\n"
     ]
    }
   ],
   "source": [
    "clf_loss, clf_loss_avg = training.compute_valid_loss(submission.iloc[:len(valid_files)],\n",
    "                       valid_files,\n",
    "                       valid_labels, \n",
    "                       target_labels_list,\n",
    "                       SUB_NAME)\n",
    "print(clf_loss_avg)"
   ]
  },
  {
   "cell_type": "code",
   "execution_count": 9,
   "metadata": {},
   "outputs": [],
   "source": [
    "# Save submission file\n",
    "submission.to_csv(os.path.join(config.MODELS_DIR, SUB_NAME))"
   ]
  },
  {
   "cell_type": "code",
   "execution_count": null,
   "metadata": {},
   "outputs": [],
   "source": []
  }
 ],
 "metadata": {
  "interpreter": {
   "hash": "cfa1bb730ddeebc089519bcd4ec0e31841e14f65d7c169a2b301ba6e4e1462a0"
  },
  "kernelspec": {
   "display_name": "Python 3.9.7 ('nasamars')",
   "language": "python",
   "name": "python3"
  },
  "language_info": {
   "codemirror_mode": {
    "name": "ipython",
    "version": 3
   },
   "file_extension": ".py",
   "mimetype": "text/x-python",
   "name": "python",
   "nbconvert_exporter": "python",
   "pygments_lexer": "ipython3",
   "version": "3.9.7"
  },
  "orig_nbformat": 4
 },
 "nbformat": 4,
 "nbformat_minor": 2
}
