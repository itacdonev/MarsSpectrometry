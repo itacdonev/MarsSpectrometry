{
 "cells": [
  {
   "cell_type": "code",
   "execution_count": 1,
   "metadata": {},
   "outputs": [],
   "source": [
    "%reload_ext autoreload\n",
    "%autoreload 2\n",
    "\n",
    "%matplotlib inline\n",
    "%config InlineBackend.figure_format = 'retina'"
   ]
  },
  {
   "cell_type": "code",
   "execution_count": 2,
   "metadata": {},
   "outputs": [
    {
     "name": "stderr",
     "output_type": "stream",
     "text": [
      "/Users/itacdonev/opt/miniconda3/envs/nasamars/lib/python3.9/site-packages/xgboost/compat.py:36: FutureWarning: pandas.Int64Index is deprecated and will be removed from pandas in a future version. Use pandas.Index with the appropriate dtype instead.\n",
      "  from pandas import MultiIndex, Int64Index\n"
     ]
    }
   ],
   "source": [
    "## Environment\n",
    "# Change main system path to be able to run code from src folder\n",
    "import sys\n",
    "p = sys.path[0]\n",
    "# Mac OS\n",
    "if sys.path[0].endswith('/models'):\n",
    "    main_path = p[:-len('/models')]\n",
    "sys.path[0] = main_path\n",
    "\n",
    "import os, gc\n",
    "from termcolor import colored\n",
    "from tqdm import tqdm\n",
    "import pandas as pd\n",
    "import numpy as np\n",
    "import matplotlib.pyplot as plt\n",
    "from sklearn.metrics import log_loss\n",
    "from src import (config, fe, features, feature_selection, \n",
    "                 preprocess, training)\n",
    "from src.fe import CreateFeatures"
   ]
  },
  {
   "cell_type": "code",
   "execution_count": 3,
   "metadata": {},
   "outputs": [
    {
     "name": "stdout",
     "output_type": "stream",
     "text": [
      "Metadata: (1570, 5)\n",
      "Train labels: (766, 11)\n",
      "Train labels: (293, 11)\n",
      "Submission: (804, 11)\n",
      "['basalt', 'carbonate', 'chloride', 'iron_oxide', 'oxalate', 'oxychlorine', 'phyllosilicate', 'silicate', 'sulfate', 'sulfide']\n",
      "Labels w/o SAM : (1047, 11)\n"
     ]
    }
   ],
   "source": [
    "# DATA PREPARATION\n",
    "# ===== LOAD DATA ======\n",
    "metadata = pd.read_csv(config.DATA_DIR + 'metadata.csv')\n",
    "print(f'Metadata: {metadata.shape}')\n",
    "\n",
    "train_labels = pd.read_csv(config.DATA_DIR + 'train_labels.csv')\n",
    "print(f'Train labels: {train_labels.shape}')\n",
    "\n",
    "valid_labels = pd.read_csv(config.DATA_DIR + 'val_labels.csv')\n",
    "print(f'Train labels: {valid_labels.shape}')\n",
    "\n",
    "# Combine train and valid labels\n",
    "trvl_labels = pd.concat([train_labels, valid_labels], axis = 0)\n",
    "\n",
    "submission = pd.read_csv(config.DATA_DIR + 'submission_format.csv')\n",
    "print(f'Submission: {submission.shape}')\n",
    "\n",
    "# ===== FILE PATHS OF SAMPLES =====\n",
    "train_files = metadata[metadata.split == 'train']['features_path'].to_dict()\n",
    "valid_files = metadata[metadata.split == 'val']['features_path'].to_dict()\n",
    "test_files = metadata[metadata.split == 'test']['features_path'].to_dict()\n",
    "# Train & Valid files\n",
    "trva_files = train_files.copy()\n",
    "trva_files.update(valid_files)\n",
    "# All files\n",
    "all_test_files = valid_files.copy()\n",
    "all_test_files.update(test_files)\n",
    "\n",
    "# Define SAM testbed files\n",
    "sam_files = metadata[(metadata.instrument_type == 'sam_testbed') & (metadata.split == 'train')]['features_path']\n",
    "sam_files = sam_files.to_dict()\n",
    "\n",
    "# Get the names of the target columns in a list\n",
    "target_labels_list = [i for i in train_labels.columns if i not in ['sample_id']]\n",
    "print(target_labels_list)\n",
    "\n",
    "# SAM testbed labels\n",
    "sam_labels = train_labels.drop(train_labels.tail(len(sam_files)).index)\n",
    "sam_labels = pd.concat([sam_labels, valid_labels], axis=0)\n",
    "print(f'Labels w/o SAM : {sam_labels.shape}')"
   ]
  },
  {
   "cell_type": "code",
   "execution_count": 4,
   "metadata": {},
   "outputs": [],
   "source": [
    "FTS_NAME = 'fts_mz_maxabun'                 # Name of the file with base features for TRAINING\n",
    "COMPUTE_FTS = True                         # Should the features be recomputed\n",
    "COMPUTE_FTS_SAM = False                      # Compute SAM test bed\n",
    "MODEL_ALGO = 'XGB_opt'                      # Name of the classifier\n",
    "MODEL_NAME = FTS_NAME + '_' + MODEL_ALGO    # Name of the model\n",
    "COMBINE_FTS = None                          # Feature sets to combine for training\n",
    "NEW_FEATURES = None                         # Name of a data frame with new features to add to model\n",
    "TRAIN_FTS_SFM = None                        # Features selected with SMF() for training.\n",
    "BASE_MODEL = None"
   ]
  },
  {
   "cell_type": "markdown",
   "metadata": {},
   "source": [
    "**COMPUTE FEATURES**\n",
    "\n",
    "- Change the `fe._` method depending on the feature that we wish to calculate"
   ]
  },
  {
   "cell_type": "code",
   "execution_count": 6,
   "metadata": {},
   "outputs": [
    {
     "name": "stdout",
     "output_type": "stream",
     "text": [
      "Computing features ... \n"
     ]
    },
    {
     "name": "stderr",
     "output_type": "stream",
     "text": [
      "100%|██████████| 766/766 [00:59<00:00, 12.80it/s]\n"
     ]
    },
    {
     "name": "stdout",
     "output_type": "stream",
     "text": [
      "\u001b[34mtrain => (766, 99)\u001b[0m\n"
     ]
    },
    {
     "name": "stderr",
     "output_type": "stream",
     "text": [
      "100%|██████████| 1059/1059 [01:19<00:00, 13.26it/s]\n"
     ]
    },
    {
     "name": "stdout",
     "output_type": "stream",
     "text": [
      "\u001b[34mtrain => (1059, 99)\u001b[0m\n"
     ]
    },
    {
     "name": "stderr",
     "output_type": "stream",
     "text": [
      "100%|██████████| 804/804 [01:01<00:00, 13.07it/s]\n"
     ]
    },
    {
     "name": "stdout",
     "output_type": "stream",
     "text": [
      "\u001b[34mtrain => (804, 99)\u001b[0m\n"
     ]
    }
   ],
   "source": [
    "# Check if feature is computed and load it or choose to compute it\n",
    "check_file = 0\n",
    "for i in ['_tr', '_trvl', '_vlte']:\n",
    "    check_file += os.path.exists(os.path.join(config.DATA_DIR_OUT, FTS_NAME +\n",
    "                                              str(i) + '.csv'))\n",
    "\n",
    "if (check_file == 3) & (not COMPUTE_FTS):\n",
    "    print('Reading features ... ')\n",
    "    X_tr = pd.read_csv(os.path.join(config.DATA_DIR_OUT, FTS_NAME + '_tr.csv'))\n",
    "    print(X_tr.shape)\n",
    "    X_trvl = pd.read_csv(os.path.join(config.DATA_DIR_OUT, FTS_NAME + '_trvl.csv'))\n",
    "    print(X_trvl.shape)\n",
    "    X_vlte = pd.read_csv(os.path.join(config.DATA_DIR_OUT, FTS_NAME + '_vlte.csv'))\n",
    "    print(X_vlte.shape)\n",
    "    \n",
    "else:\n",
    "    print('Computing features ... ')\n",
    "    # ----- TRAIN -----\n",
    "    fe = CreateFeatures(metadata, train_files, 'tr', FTS_NAME)\n",
    "    X_tr = fe.fts_mz_maxabun()\n",
    "    print(colored(f'train => {X_tr.shape}', 'blue'))\n",
    "    \n",
    "    # ----- TRAIN & VALID -----\n",
    "    fe = CreateFeatures(metadata, trva_files, 'trvl', FTS_NAME)\n",
    "    X_trvl = fe.fts_mz_maxabun()\n",
    "    print(colored(f'train => {X_trvl.shape}', 'blue'))\n",
    "    \n",
    "    # ----- VALID & TEST -----\n",
    "    fe = CreateFeatures(metadata, all_test_files, 'vlte', FTS_NAME)\n",
    "    X_vlte = fe.fts_mz_maxabun()\n",
    "    print(colored(f'train => {X_vlte.shape}', 'blue'))\n",
    "    \n",
    "if COMPUTE_FTS_SAM:\n",
    "    print(f'\\nCreating SAM testbed samples ...')\n",
    "    # Training without SAM testbed\n",
    "    X_tr_sam = X_tr.drop(X_tr.tail(len(sam_files)).index).copy()\n",
    "    X_tr_sam = pd.concat([X_tr_sam, X_trvl.iloc[len(train_files):,:]], axis=0)\n",
    "    print(f'Train shape: {X_tr_sam.shape}')\n",
    "    # Validation data\n",
    "    X_vl_sam = X_tr.tail(len(sam_files)).copy()\n",
    "    print(f'Valid shape: {X_vl_sam.shape}')"
   ]
  },
  {
   "cell_type": "markdown",
   "metadata": {},
   "source": [
    "## MODELS"
   ]
  },
  {
   "cell_type": "markdown",
   "metadata": {},
   "source": [
    "**TRAIN**"
   ]
  },
  {
   "cell_type": "code",
   "execution_count": 7,
   "metadata": {},
   "outputs": [
    {
     "name": "stdout",
     "output_type": "stream",
     "text": [
      "\u001b[34mCV training ....\u001b[0m\n",
      "\u001b[33mbasalt\u001b[0m\n",
      "\u001b[33mLogLoss 0.23335908584931936\u001b[0m\n",
      "\u001b[33mcarbonate\u001b[0m\n",
      "\u001b[33mLogLoss 0.13762297206338067\u001b[0m\n",
      "\u001b[33mchloride\u001b[0m\n",
      "\u001b[33mLogLoss 0.1915109891184221\u001b[0m\n",
      "\u001b[33miron_oxide\u001b[0m\n",
      "\u001b[33mLogLoss 0.2776471223992062\u001b[0m\n",
      "\u001b[33moxalate\u001b[0m\n",
      "\u001b[33mLogLoss 0.018707248684752237\u001b[0m\n",
      "\u001b[33moxychlorine\u001b[0m\n",
      "\u001b[33mLogLoss 0.2095678803312211\u001b[0m\n",
      "\u001b[33mphyllosilicate\u001b[0m\n",
      "\u001b[33mLogLoss 0.3024789016892405\u001b[0m\n",
      "\u001b[33msilicate\u001b[0m\n",
      "\u001b[33mLogLoss 0.25596164640189245\u001b[0m\n",
      "\u001b[33msulfate\u001b[0m\n",
      "\u001b[33mLogLoss 0.26322047477791066\u001b[0m\n",
      "\u001b[33msulfide\u001b[0m\n",
      "\u001b[33mLogLoss 0.10274598003731712\u001b[0m\n",
      "\u001b[34mFull training .....\u001b[0m\n",
      "\u001b[32mbasalt - nfeatures: 99\u001b[0m\n",
      "\u001b[32mcarbonate - nfeatures: 99\u001b[0m\n",
      "\u001b[32mchloride - nfeatures: 99\u001b[0m\n",
      "\u001b[32miron_oxide - nfeatures: 99\u001b[0m\n",
      "\u001b[32moxalate - nfeatures: 99\u001b[0m\n",
      "\u001b[32moxychlorine - nfeatures: 99\u001b[0m\n",
      "\u001b[32mphyllosilicate - nfeatures: 99\u001b[0m\n",
      "\u001b[32msilicate - nfeatures: 99\u001b[0m\n",
      "\u001b[32msulfate - nfeatures: 99\u001b[0m\n",
      "\u001b[32msulfide - nfeatures: 99\u001b[0m\n",
      "Saving fts_mz_maxabun_XGB_opt_tr_COLS.txt\n",
      "\u001b[33mCV LogLoss: 0.19928\u001b[0m\n",
      "\u001b[32mVAL LogLoss: 0.19317\u001b[0m\n"
     ]
    }
   ],
   "source": [
    "# ===== TRAIN =====\n",
    "split_type = 'tr'\n",
    "\n",
    "# Initialize the feature selection class\n",
    "smf = feature_selection.SelectModelFeatures(\n",
    "    base_sfm_features_name=TRAIN_FTS_SFM,\n",
    "    base_fitted_model_name=BASE_MODEL,\n",
    "    target_labels_list=target_labels_list,\n",
    "    new_features_file_name=NEW_FEATURES,\n",
    "    fitted_model_name=MODEL_NAME,\n",
    "    fitted_model_algo=MODEL_ALGO,\n",
    "    X_tr=X_tr,\n",
    "    X_vlte=X_vlte,\n",
    "    split_type='tr',\n",
    "    train_labels=train_labels,\n",
    "    valid_files=valid_files,\n",
    "    valid_labels=valid_labels)\n",
    "\n",
    "if TRAIN_FTS_SFM:\n",
    "    # Loads FTS_NAME_tr_SFM_COLS - cols to train with if\n",
    "    # training is done without full column lenght of input data\n",
    "    TRAIN_FTS_DICT = smf.load_features(file_name=FTS_NAME)\n",
    "else: \n",
    "    TRAIN_FTS_DICT = None\n",
    "    \n",
    "# Train the model- saves features as MODEL_NAME_tr_COLS.txt'\n",
    "cvloss, submission_model = training.train_tbl(\n",
    "    df_train=X_tr,\n",
    "    df_labels=train_labels,\n",
    "    target_list=target_labels_list,\n",
    "    df_test=X_vlte,\n",
    "    split_type=split_type,\n",
    "    model_algo=MODEL_ALGO,\n",
    "    sub_name=MODEL_NAME + '_' + split_type,\n",
    "    fts_select_cols=TRAIN_FTS_DICT,\n",
    "    )\n",
    "\n",
    "# Compute validation loss when full model is trained\n",
    "mloss, mloss_avg = training.compute_valid_loss(submission_model,\n",
    "                                               valid_files, valid_labels,\n",
    "                                               target_labels_list,\n",
    "                                               sub_name=MODEL_NAME + '_' + split_type,\n",
    "                                               fts_select_cols=TRAIN_FTS_DICT)\n",
    "print(colored(f'VAL LogLoss: {np.round(mloss_avg, 5)}', 'green'))"
   ]
  },
  {
   "cell_type": "code",
   "execution_count": 8,
   "metadata": {},
   "outputs": [
    {
     "name": "stdout",
     "output_type": "stream",
     "text": [
      "Recomputing current model features from fitted model fts_mz_maxabun_XGB_opt_tr\n",
      "Computing optimal threshold for each label\n",
      "basalt - Computing threshold on fts_mz_maxabun_XGB_opt_tr_basalt.joblib.dat\n",
      "carbonate - Computing threshold on fts_mz_maxabun_XGB_opt_tr_carbonate.joblib.dat\n",
      "chloride - Computing threshold on fts_mz_maxabun_XGB_opt_tr_chloride.joblib.dat\n",
      "iron_oxide - Computing threshold on fts_mz_maxabun_XGB_opt_tr_iron_oxide.joblib.dat\n",
      "oxalate - Computing threshold on fts_mz_maxabun_XGB_opt_tr_oxalate.joblib.dat\n",
      "oxychlorine - Computing threshold on fts_mz_maxabun_XGB_opt_tr_oxychlorine.joblib.dat\n",
      "phyllosilicate - Computing threshold on fts_mz_maxabun_XGB_opt_tr_phyllosilicate.joblib.dat\n",
      "silicate - Computing threshold on fts_mz_maxabun_XGB_opt_tr_silicate.joblib.dat\n",
      "sulfate - Computing threshold on fts_mz_maxabun_XGB_opt_tr_sulfate.joblib.dat\n",
      "sulfide - Computing threshold on fts_mz_maxabun_XGB_opt_tr_sulfide.joblib.dat\n",
      "Refinting the model based on the threshold\n",
      "Saving fts_mz_maxabun_XGB_opt_tr_SFM_COLS.txt\n",
      "basalt: 24\n",
      "carbonate: 17\n",
      "chloride: 46\n",
      "iron_oxide: 90\n",
      "oxalate: 20\n",
      "oxychlorine: 53\n",
      "phyllosilicate: 71\n",
      "silicate: 20\n",
      "sulfate: 85\n",
      "sulfide: 49\n"
     ]
    }
   ],
   "source": [
    "# Compute new features selected from the fitted model\n",
    "# If just to read the features use compute_features=False\n",
    "# Saves features as Loads FTS_NAME_tr_SFM_COLS\n",
    "SFM_COLUMNS = smf.select_features(cv_new_model=cvloss)\n",
    "smf.show_no_fts_label(SFM_COLUMNS)"
   ]
  },
  {
   "cell_type": "code",
   "execution_count": 9,
   "metadata": {},
   "outputs": [
    {
     "name": "stdout",
     "output_type": "stream",
     "text": [
      "\u001b[34mLoading feature column names\u001b[0m\n",
      "Reading fts_mz_maxabun_XGB_opt_tr_SFM_COLS.txt\n",
      "\u001b[34mCV training ....\u001b[0m\n",
      "\u001b[33mbasalt\u001b[0m\n",
      "\u001b[33mLogLoss 0.23141683049883569\u001b[0m\n",
      "\u001b[33mcarbonate\u001b[0m\n",
      "\u001b[33mLogLoss 0.13718002378099775\u001b[0m\n",
      "\u001b[33mchloride\u001b[0m\n",
      "\u001b[33mLogLoss 0.17191812299581938\u001b[0m\n",
      "\u001b[33miron_oxide\u001b[0m\n",
      "\u001b[33mLogLoss 0.27891611257505616\u001b[0m\n",
      "\u001b[33moxalate\u001b[0m\n",
      "\u001b[33mLogLoss 0.017180006927321235\u001b[0m\n",
      "\u001b[33moxychlorine\u001b[0m\n",
      "\u001b[33mLogLoss 0.20562732499590547\u001b[0m\n",
      "\u001b[33mphyllosilicate\u001b[0m\n",
      "\u001b[33mLogLoss 0.2994986204881242\u001b[0m\n",
      "\u001b[33msilicate\u001b[0m\n",
      "\u001b[33mLogLoss 0.29090005558667087\u001b[0m\n",
      "\u001b[33msulfate\u001b[0m\n",
      "\u001b[33mLogLoss 0.2620554517838919\u001b[0m\n",
      "\u001b[33msulfide\u001b[0m\n",
      "\u001b[33mLogLoss 0.10446844134435478\u001b[0m\n",
      "\u001b[34mFull training .....\u001b[0m\n",
      "\u001b[32mbasalt - nfeatures: 24\u001b[0m\n",
      "\u001b[32mcarbonate - nfeatures: 17\u001b[0m\n",
      "\u001b[32mchloride - nfeatures: 46\u001b[0m\n",
      "\u001b[32miron_oxide - nfeatures: 90\u001b[0m\n",
      "\u001b[32moxalate - nfeatures: 20\u001b[0m\n",
      "\u001b[32moxychlorine - nfeatures: 53\u001b[0m\n",
      "\u001b[32mphyllosilicate - nfeatures: 71\u001b[0m\n",
      "\u001b[32msilicate - nfeatures: 20\u001b[0m\n",
      "\u001b[32msulfate - nfeatures: 85\u001b[0m\n",
      "\u001b[32msulfide - nfeatures: 49\u001b[0m\n",
      "Saving fts_mz_maxabun_XGB_opt_tr_COLS_sfm.txt\n",
      "\u001b[33mCV LogLoss: 0.19992\u001b[0m\n",
      "\u001b[32mVAL LogLoss: 0.18544\u001b[0m\n"
     ]
    }
   ],
   "source": [
    "# Retrain the model with newly selected features\n",
    "TRAIN_FTS_SFM = 'fts_mz_maxabun'            # Features selected with SMF() for training.\n",
    "\n",
    "\n",
    "# ===== TRAIN =====\n",
    "split_type = 'tr'\n",
    "\n",
    "if TRAIN_FTS_SFM:\n",
    "    # Loads FTS_NAME_tr_SFM_COLS - cols to train with if\n",
    "    # training is done without full column lenght of input data\n",
    "    TRAIN_FTS_DICT = smf.load_features(file_name=TRAIN_FTS_SFM)\n",
    "else: \n",
    "    TRAIN_FTS_DICT = None\n",
    "    \n",
    "# Train the model- saves features as MODEL_NAME_tr_COLS.txt'\n",
    "cvloss, submission_model = training.train_tbl(\n",
    "    df_train=X_tr,\n",
    "    df_labels=train_labels,\n",
    "    target_list=target_labels_list,\n",
    "    df_test=X_vlte,\n",
    "    split_type=split_type,\n",
    "    model_algo=MODEL_ALGO,\n",
    "    sub_name=MODEL_NAME + '_' + split_type,\n",
    "    fts_select_cols=TRAIN_FTS_DICT,\n",
    "    )\n",
    "\n",
    "# Compute validation loss when full model is trained\n",
    "mloss, mloss_avg = training.compute_valid_loss(submission_model,\n",
    "                                               valid_files, valid_labels,\n",
    "                                               target_labels_list,\n",
    "                                               sub_name=MODEL_NAME + '_' + split_type,\n",
    "                                               fts_select_cols=TRAIN_FTS_DICT)\n",
    "print(colored(f'VAL LogLoss: {np.round(mloss_avg, 5)}', 'green'))"
   ]
  },
  {
   "cell_type": "markdown",
   "metadata": {},
   "source": [
    "**TRAIN & VALID**"
   ]
  },
  {
   "cell_type": "code",
   "execution_count": 10,
   "metadata": {},
   "outputs": [],
   "source": [
    "FTS_NAME = 'fts_mz_maxabun'                 # Name of the file with base features for TRAINING\n",
    "COMPUTE_FTS = False                         # Should the features be recomputed\n",
    "COMPUTE_FTS_SAM = False                      # Compute SAM test bed\n",
    "MODEL_ALGO = 'XGB_opt'                      # Name of the classifier\n",
    "MODEL_NAME = FTS_NAME + '_' + MODEL_ALGO    # Name of the model\n",
    "COMBINE_FTS = None                          # Feature sets to combine for training\n",
    "NEW_FEATURES = None                         # Name of a data frame with new features to add to model\n",
    "TRAIN_FTS_SFM = None                        # Features selected with SMF() for training.\n",
    "BASE_MODEL = None"
   ]
  },
  {
   "cell_type": "code",
   "execution_count": 11,
   "metadata": {},
   "outputs": [
    {
     "name": "stdout",
     "output_type": "stream",
     "text": [
      "\u001b[34mCV training ....\u001b[0m\n",
      "\u001b[33mbasalt\u001b[0m\n",
      "\u001b[33mLogLoss 0.18172299958577864\u001b[0m\n",
      "\u001b[33mcarbonate\u001b[0m\n",
      "\u001b[33mLogLoss 0.11267361215362356\u001b[0m\n",
      "\u001b[33mchloride\u001b[0m\n",
      "\u001b[33mLogLoss 0.18364851557251421\u001b[0m\n",
      "\u001b[33miron_oxide\u001b[0m\n",
      "\u001b[33mLogLoss 0.2624892150076618\u001b[0m\n",
      "\u001b[33moxalate\u001b[0m\n",
      "\u001b[33mLogLoss 0.012282375499648703\u001b[0m\n",
      "\u001b[33moxychlorine\u001b[0m\n",
      "\u001b[33mLogLoss 0.19212685104651822\u001b[0m\n",
      "\u001b[33mphyllosilicate\u001b[0m\n",
      "\u001b[33mLogLoss 0.30040320632914214\u001b[0m\n",
      "\u001b[33msilicate\u001b[0m\n",
      "\u001b[33mLogLoss 0.23938581633886327\u001b[0m\n",
      "\u001b[33msulfate\u001b[0m\n",
      "\u001b[33mLogLoss 0.21701146716607805\u001b[0m\n",
      "\u001b[33msulfide\u001b[0m\n",
      "\u001b[33mLogLoss 0.08492859743746803\u001b[0m\n",
      "\u001b[34mFull training .....\u001b[0m\n",
      "\u001b[32mbasalt - nfeatures: 99\u001b[0m\n",
      "\u001b[32mcarbonate - nfeatures: 99\u001b[0m\n",
      "\u001b[32mchloride - nfeatures: 99\u001b[0m\n",
      "\u001b[32miron_oxide - nfeatures: 99\u001b[0m\n",
      "\u001b[32moxalate - nfeatures: 99\u001b[0m\n",
      "\u001b[32moxychlorine - nfeatures: 99\u001b[0m\n",
      "\u001b[32mphyllosilicate - nfeatures: 99\u001b[0m\n",
      "\u001b[32msilicate - nfeatures: 99\u001b[0m\n",
      "\u001b[32msulfate - nfeatures: 99\u001b[0m\n",
      "\u001b[32msulfide - nfeatures: 99\u001b[0m\n",
      "Saving fts_mz_maxabun_XGB_opt_trvl_COLS.txt\n",
      "\u001b[33mCV LogLoss: 0.17867\u001b[0m\n",
      "\u001b[32mVAL LogLoss: 0.02198\u001b[0m\n"
     ]
    }
   ],
   "source": [
    "# ===== TRAIN =====\n",
    "split_type = 'trvl'\n",
    "\n",
    "# Initialize the feature selection class\n",
    "smf = feature_selection.SelectModelFeatures(\n",
    "    base_sfm_features_name=TRAIN_FTS_SFM,\n",
    "    base_fitted_model_name=BASE_MODEL,\n",
    "    target_labels_list=target_labels_list,\n",
    "    new_features_file_name=NEW_FEATURES,\n",
    "    fitted_model_name=MODEL_NAME,\n",
    "    fitted_model_algo=MODEL_ALGO,\n",
    "    X_tr=X_trvl,\n",
    "    X_vlte=X_vlte,\n",
    "    split_type=split_type,\n",
    "    train_labels=trvl_labels,\n",
    "    valid_files=valid_files,\n",
    "    valid_labels=valid_labels)\n",
    "\n",
    "if TRAIN_FTS_SFM:\n",
    "    # Loads FTS_NAME_tr_SFM_COLS - cols to train with if\n",
    "    # training is done without full column lenght of input data\n",
    "    TRAIN_FTS_DICT = smf.load_features(file_name=FTS_NAME)\n",
    "else: \n",
    "    TRAIN_FTS_DICT = None\n",
    "    \n",
    "# Train the model- saves features as MODEL_NAME_tr_COLS.txt'\n",
    "cvloss, submission_model = training.train_tbl(\n",
    "    df_train=X_trvl,\n",
    "    df_labels=trvl_labels,\n",
    "    target_list=target_labels_list,\n",
    "    df_test=X_vlte,\n",
    "    split_type=split_type,\n",
    "    model_algo=MODEL_ALGO,\n",
    "    sub_name=MODEL_NAME + '_' + split_type,\n",
    "    fts_select_cols=TRAIN_FTS_DICT,\n",
    "    )\n",
    "\n",
    "# Compute validation loss when full model is trained\n",
    "mloss, mloss_avg = training.compute_valid_loss(submission_model,\n",
    "                                               valid_files, valid_labels,\n",
    "                                               target_labels_list,\n",
    "                                               sub_name=MODEL_NAME + '_' + split_type,\n",
    "                                               fts_select_cols=TRAIN_FTS_DICT)\n",
    "print(colored(f'VAL LogLoss: {np.round(mloss_avg, 5)}', 'green'))"
   ]
  },
  {
   "cell_type": "code",
   "execution_count": 12,
   "metadata": {},
   "outputs": [
    {
     "name": "stdout",
     "output_type": "stream",
     "text": [
      "Recomputing current model features from fitted model fts_mz_maxabun_XGB_opt_trvl\n",
      "Computing optimal threshold for each label\n",
      "basalt - Computing threshold on fts_mz_maxabun_XGB_opt_trvl_basalt.joblib.dat\n",
      "carbonate - Computing threshold on fts_mz_maxabun_XGB_opt_trvl_carbonate.joblib.dat\n",
      "chloride - Computing threshold on fts_mz_maxabun_XGB_opt_trvl_chloride.joblib.dat\n",
      "iron_oxide - Computing threshold on fts_mz_maxabun_XGB_opt_trvl_iron_oxide.joblib.dat\n",
      "oxalate - Computing threshold on fts_mz_maxabun_XGB_opt_trvl_oxalate.joblib.dat\n",
      "oxychlorine - Computing threshold on fts_mz_maxabun_XGB_opt_trvl_oxychlorine.joblib.dat\n",
      "phyllosilicate - Computing threshold on fts_mz_maxabun_XGB_opt_trvl_phyllosilicate.joblib.dat\n",
      "silicate - Computing threshold on fts_mz_maxabun_XGB_opt_trvl_silicate.joblib.dat\n",
      "sulfate - Computing threshold on fts_mz_maxabun_XGB_opt_trvl_sulfate.joblib.dat\n",
      "sulfide - Computing threshold on fts_mz_maxabun_XGB_opt_trvl_sulfide.joblib.dat\n",
      "Refinting the model based on the threshold\n",
      "Saving fts_mz_maxabun_XGB_opt_trvl_SFM_COLS.txt\n",
      "basalt: 62\n",
      "carbonate: 78\n",
      "chloride: 83\n",
      "iron_oxide: 94\n",
      "oxalate: 7\n",
      "oxychlorine: 92\n",
      "phyllosilicate: 88\n",
      "silicate: 99\n",
      "sulfate: 86\n",
      "sulfide: 99\n"
     ]
    }
   ],
   "source": [
    "# Compute new features selected from the fitted model\n",
    "# If just to read the features use compute_features=False\n",
    "# Saves features as Loads FTS_NAME_tr_SFM_COLS\n",
    "SFM_COLUMNS = smf.select_features(cv_new_model=cvloss)\n",
    "smf.show_no_fts_label(SFM_COLUMNS)"
   ]
  },
  {
   "cell_type": "code",
   "execution_count": 13,
   "metadata": {},
   "outputs": [
    {
     "name": "stdout",
     "output_type": "stream",
     "text": [
      "\u001b[34mLoading feature column names\u001b[0m\n",
      "Reading fts_mz_maxabun_XGB_opt_trvl_SFM_COLS.txt\n",
      "\u001b[34mCV training ....\u001b[0m\n",
      "\u001b[33mbasalt\u001b[0m\n",
      "\u001b[33mLogLoss 0.18046363339157617\u001b[0m\n",
      "\u001b[33mcarbonate\u001b[0m\n",
      "\u001b[33mLogLoss 0.11384340399552931\u001b[0m\n",
      "\u001b[33mchloride\u001b[0m\n",
      "\u001b[33mLogLoss 0.18790551191367594\u001b[0m\n",
      "\u001b[33miron_oxide\u001b[0m\n",
      "\u001b[33mLogLoss 0.25897727547748545\u001b[0m\n",
      "\u001b[33moxalate\u001b[0m\n",
      "\u001b[33mLogLoss 0.010566087577575727\u001b[0m\n",
      "\u001b[33moxychlorine\u001b[0m\n",
      "\u001b[33mLogLoss 0.1906150576619041\u001b[0m\n",
      "\u001b[33mphyllosilicate\u001b[0m\n",
      "\u001b[33mLogLoss 0.30624121240781677\u001b[0m\n",
      "\u001b[33msilicate\u001b[0m\n",
      "\u001b[33mLogLoss 0.23938581633886327\u001b[0m\n",
      "\u001b[33msulfate\u001b[0m\n",
      "\u001b[33mLogLoss 0.21097211199200702\u001b[0m\n",
      "\u001b[33msulfide\u001b[0m\n",
      "\u001b[33mLogLoss 0.08492859743746803\u001b[0m\n",
      "\u001b[34mFull training .....\u001b[0m\n",
      "\u001b[32mbasalt - nfeatures: 62\u001b[0m\n",
      "\u001b[32mcarbonate - nfeatures: 78\u001b[0m\n",
      "\u001b[32mchloride - nfeatures: 83\u001b[0m\n",
      "\u001b[32miron_oxide - nfeatures: 94\u001b[0m\n",
      "\u001b[32moxalate - nfeatures: 7\u001b[0m\n",
      "\u001b[32moxychlorine - nfeatures: 92\u001b[0m\n",
      "\u001b[32mphyllosilicate - nfeatures: 88\u001b[0m\n",
      "\u001b[32msilicate - nfeatures: 99\u001b[0m\n",
      "\u001b[32msulfate - nfeatures: 86\u001b[0m\n",
      "\u001b[32msulfide - nfeatures: 99\u001b[0m\n",
      "Saving fts_mz_maxabun_XGB_opt_trvl_COLS_sfm.txt\n",
      "\u001b[33mCV LogLoss: 0.17839\u001b[0m\n",
      "\u001b[32mVAL LogLoss: 0.02098\u001b[0m\n"
     ]
    }
   ],
   "source": [
    "# Retrain the model with newly selected features\n",
    "TRAIN_FTS_SFM = 'fts_mz_maxabun'            # Features selected with SMF() for training.\n",
    "\n",
    "\n",
    "# ===== TRAIN =====\n",
    "split_type = 'trvl'\n",
    "\n",
    "if TRAIN_FTS_SFM:\n",
    "    # Loads FTS_NAME_tr_SFM_COLS - cols to train with if\n",
    "    # training is done without full column lenght of input data\n",
    "    TRAIN_FTS_DICT = smf.load_features(file_name=TRAIN_FTS_SFM)\n",
    "else: \n",
    "    TRAIN_FTS_DICT = None\n",
    "    \n",
    "# Train the model- saves features as MODEL_NAME_tr_COLS.txt'\n",
    "cvloss, submission_model = training.train_tbl(\n",
    "    df_train=X_trvl,\n",
    "    df_labels=trvl_labels,\n",
    "    target_list=target_labels_list,\n",
    "    df_test=X_vlte,\n",
    "    split_type=split_type,\n",
    "    model_algo=MODEL_ALGO,\n",
    "    sub_name=MODEL_NAME + '_' + split_type,\n",
    "    fts_select_cols=TRAIN_FTS_DICT,\n",
    "    )\n",
    "\n",
    "# Compute validation loss when full model is trained\n",
    "mloss, mloss_avg = training.compute_valid_loss(submission_model,\n",
    "                                               valid_files, valid_labels,\n",
    "                                               target_labels_list,\n",
    "                                               sub_name=MODEL_NAME + '_' + split_type,\n",
    "                                               fts_select_cols=TRAIN_FTS_DICT)\n",
    "print(colored(f'VAL LogLoss: {np.round(mloss_avg, 5)}', 'green'))"
   ]
  },
  {
   "cell_type": "markdown",
   "metadata": {},
   "source": [
    "**SAM TRAINING**"
   ]
  },
  {
   "cell_type": "code",
   "execution_count": null,
   "metadata": {},
   "outputs": [],
   "source": []
  }
 ],
 "metadata": {
  "interpreter": {
   "hash": "cfa1bb730ddeebc089519bcd4ec0e31841e14f65d7c169a2b301ba6e4e1462a0"
  },
  "kernelspec": {
   "display_name": "Python 3.9.7 ('nasamars')",
   "language": "python",
   "name": "python3"
  },
  "language_info": {
   "codemirror_mode": {
    "name": "ipython",
    "version": 3
   },
   "file_extension": ".py",
   "mimetype": "text/x-python",
   "name": "python",
   "nbconvert_exporter": "python",
   "pygments_lexer": "ipython3",
   "version": "3.9.7"
  },
  "orig_nbformat": 4
 },
 "nbformat": 4,
 "nbformat_minor": 2
}
