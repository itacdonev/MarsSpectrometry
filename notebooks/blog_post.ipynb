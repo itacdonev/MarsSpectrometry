{
 "cells": [
  {
   "cell_type": "markdown",
   "metadata": {},
   "source": [
    "# POST ON KAGGLE"
   ]
  },
  {
   "cell_type": "code",
   "execution_count": 17,
   "metadata": {},
   "outputs": [],
   "source": [
    "import numpy as np\n",
    "import pandas as pd"
   ]
  },
  {
   "cell_type": "markdown",
   "metadata": {},
   "source": [
    "# How to Prepare Input Data for LSTM()"
   ]
  },
  {
   "cell_type": "markdown",
   "metadata": {},
   "source": [
    "## Requirements\n",
    "\n",
    "The input data for the `LSTM()` in Keras needs to be defined as a tuple of the following `[samples, time_step, features]` with the minimum reqirement of at least one `sample`. The definitions of the input tuple are:\n",
    "- `samples`: different examples (IDs)\n",
    "- `time_step`: \n",
    "- `features`:\n",
    "\n",
    "To illustrate with an example:  \n",
    "<<<Plot a min requirement of 1D>>>  \n",
    "<<<Plot a min requirement of 2D>>>  \n",
    "<<<Plot a min requirement of 3D>>>  "
   ]
  },
  {
   "cell_type": "markdown",
   "metadata": {},
   "source": [
    "## 1D Example\n",
    "\n",
    "The example with 1D array is following an assumption that there is one example i.e. sample which has observations of one feature in 5 time steps. An example would be for example temperature measurements for 5 days at one location.\n",
    "\n",
    "So when we are reshaping the initial array, we should have \n",
    "- `samples = 1`\n",
    "- `time_steps = 5`\n",
    "- `features = 1`\n",
    "\n",
    "which gives a tuple of `(1,5,1)`."
   ]
  },
  {
   "cell_type": "code",
   "execution_count": 10,
   "metadata": {},
   "outputs": [
    {
     "name": "stdout",
     "output_type": "stream",
     "text": [
      "Data: (5,)\n",
      "[0.1 0.2 0.3 0.4 0.5]\n",
      "\n",
      "Data reshaped: (1, 5, 1)\n",
      "[[[0.1]\n",
      "  [0.2]\n",
      "  [0.3]\n",
      "  [0.4]\n",
      "  [0.5]]]\n"
     ]
    }
   ],
   "source": [
    "# ===== 1D EXAMPLE =====\n",
    "data_1D = np.array([0.1, 0.2, 0.3, 0.4, 0.5])\n",
    "print(f'Data: {data_1D.shape}')\n",
    "print(data_1D)\n",
    "\n",
    "data_1D_r = data_1D.reshape((1,len(data_1D), 1))\n",
    "print(f'\\nData reshaped: {data_1D_r.shape}')\n",
    "print(data_1D_r)"
   ]
  },
  {
   "cell_type": "markdown",
   "metadata": {},
   "source": [
    "## 2D Example\n",
    "\n",
    "In this example we have one example or sample, 5 time observations where we observe two diffrent types of measurement leading to two features.\n",
    "\n",
    "So when we are reshaping the initial array, we should have \n",
    "- `samples = 1`\n",
    "- `time_steps = 5`\n",
    "- `features = 2`\n",
    "\n",
    "which gives a tuple of `(1,5,2)`."
   ]
  },
  {
   "cell_type": "code",
   "execution_count": 22,
   "metadata": {},
   "outputs": [
    {
     "name": "stdout",
     "output_type": "stream",
     "text": [
      "Data: (5, 2)\n",
      "[[0.1 0.6]\n",
      " [0.2 0.7]\n",
      " [0.3 0.8]\n",
      " [0.4 0.9]\n",
      " [0.5 1. ]]\n",
      "\n",
      "Data reshaped: (1, 5, 2)\n",
      "[[[0.1 0.6]\n",
      "  [0.2 0.7]\n",
      "  [0.3 0.8]\n",
      "  [0.4 0.9]\n",
      "  [0.5 1. ]]]\n"
     ]
    }
   ],
   "source": [
    "data_2D = pd.DataFrame({'col1': [0.1, 0.2, 0.3, 0.4, 0.5], \n",
    "            'col2': [0.6, 0.7, 0.8, 0.9, 1.0]})\n",
    "data_2D = np.array(data_2D)\n",
    "print(f'Data: {data_2D.shape}')\n",
    "print(data_2D)\n",
    "\n",
    "data_2D_r = data_2D.reshape((1,data_2D.shape[0], data_2D.shape[1]))\n",
    "print(f'\\nData reshaped: {data_2D_r.shape}')\n",
    "print(data_2D_r)"
   ]
  },
  {
   "cell_type": "markdown",
   "metadata": {},
   "source": [
    "# 3D Example"
   ]
  },
  {
   "cell_type": "code",
   "execution_count": null,
   "metadata": {},
   "outputs": [],
   "source": []
  }
 ],
 "metadata": {
  "interpreter": {
   "hash": "cfa1bb730ddeebc089519bcd4ec0e31841e14f65d7c169a2b301ba6e4e1462a0"
  },
  "kernelspec": {
   "display_name": "Python 3.9.7 ('nasamars')",
   "language": "python",
   "name": "python3"
  },
  "language_info": {
   "codemirror_mode": {
    "name": "ipython",
    "version": 3
   },
   "file_extension": ".py",
   "mimetype": "text/x-python",
   "name": "python",
   "nbconvert_exporter": "python",
   "pygments_lexer": "ipython3",
   "version": "3.9.7"
  },
  "orig_nbformat": 4
 },
 "nbformat": 4,
 "nbformat_minor": 2
}
