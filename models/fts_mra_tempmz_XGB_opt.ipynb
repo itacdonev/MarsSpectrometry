{
 "cells": [
  {
   "cell_type": "code",
   "execution_count": 1,
   "metadata": {},
   "outputs": [],
   "source": [
    "%reload_ext autoreload\n",
    "%autoreload 2\n",
    "\n",
    "%matplotlib inline\n",
    "%config InlineBackend.figure_format = 'retina'"
   ]
  },
  {
   "cell_type": "code",
   "execution_count": 2,
   "metadata": {},
   "outputs": [
    {
     "name": "stderr",
     "output_type": "stream",
     "text": [
      "/Users/itacdonev/opt/miniconda3/envs/nasamars/lib/python3.9/site-packages/xgboost/compat.py:36: FutureWarning: pandas.Int64Index is deprecated and will be removed from pandas in a future version. Use pandas.Index with the appropriate dtype instead.\n",
      "  from pandas import MultiIndex, Int64Index\n"
     ]
    }
   ],
   "source": [
    "## Environment\n",
    "# Change main system path to be able to run code from src folder\n",
    "import sys\n",
    "p = sys.path[0]\n",
    "# Mac OS\n",
    "if sys.path[0].endswith('/models'):\n",
    "    main_path = p[:-len('/models')]\n",
    "sys.path[0] = main_path\n",
    "\n",
    "import os, gc\n",
    "from termcolor import colored\n",
    "from tqdm import tqdm\n",
    "import pandas as pd\n",
    "import numpy as np\n",
    "import matplotlib.pyplot as plt\n",
    "from sklearn.metrics import log_loss\n",
    "from src import (config, fe, features, preprocess, training)\n",
    "from src.fe import CreateFeatures"
   ]
  },
  {
   "cell_type": "code",
   "execution_count": 3,
   "metadata": {},
   "outputs": [
    {
     "name": "stdout",
     "output_type": "stream",
     "text": [
      "Metadata: (1570, 5)\n",
      "Train labels: (766, 11)\n",
      "Train labels: (293, 11)\n",
      "Submission: (804, 11)\n",
      "['basalt', 'carbonate', 'chloride', 'iron_oxide', 'oxalate', 'oxychlorine', 'phyllosilicate', 'silicate', 'sulfate', 'sulfide']\n"
     ]
    }
   ],
   "source": [
    "# DATA PREPARATION\n",
    "# ===== LOAD DATA ======\n",
    "metadata = pd.read_csv(config.DATA_DIR + 'metadata.csv')\n",
    "print(f'Metadata: {metadata.shape}')\n",
    "\n",
    "train_labels = pd.read_csv(config.DATA_DIR + 'train_labels.csv')\n",
    "print(f'Train labels: {train_labels.shape}')\n",
    "\n",
    "valid_labels = pd.read_csv(config.DATA_DIR + 'val_labels.csv')\n",
    "print(f'Train labels: {valid_labels.shape}')\n",
    "\n",
    "# Combine train and valid labels\n",
    "trvl_labels = pd.concat([train_labels, valid_labels], axis = 0)\n",
    "\n",
    "submission = pd.read_csv(config.DATA_DIR + 'submission_format.csv')\n",
    "print(f'Submission: {submission.shape}')\n",
    "\n",
    "# ===== FILE PATHS OF SAMPLES =====\n",
    "train_files = metadata[metadata.split == 'train']['features_path'].to_dict()\n",
    "valid_files = metadata[metadata.split == 'val']['features_path'].to_dict()\n",
    "test_files = metadata[metadata.split == 'test']['features_path'].to_dict()\n",
    "# Train & Valid files\n",
    "trva_files = train_files.copy()\n",
    "trva_files.update(valid_files)\n",
    "# All files\n",
    "all_test_files = valid_files.copy()\n",
    "all_test_files.update(test_files)\n",
    "\n",
    "# Define SAM testbed files\n",
    "sam_files = metadata[(metadata.instrument_type == 'sam_testbed') & (metadata.split == 'train')]['features_path']\n",
    "sam_files = sam_files.to_dict()\n",
    "\n",
    "# Ion type list\n",
    "ion_list = list(np.arange(0,100,1.0))\n",
    "ion_list.remove(4.0)\n",
    "\n",
    "# Get the names of the target columns in a list\n",
    "target_labels_list = [i for i in train_labels.columns if i not in ['sample_id']]\n",
    "print(target_labels_list)\n",
    "\n",
    "# SAM testbed labels\n",
    "sam_labels = train_labels.drop(train_labels.tail(len(sam_files)).index)"
   ]
  },
  {
   "cell_type": "code",
   "execution_count": 4,
   "metadata": {},
   "outputs": [],
   "source": [
    "FTS_NAME = 'fts_mra_tempmz'                 # Name of the file with features\n",
    "COMPUTE_FTS = False                         # Should the features be recomputed\n",
    "COMPUTE_FTS_SAM = True                      # Compute SAM test bed\n",
    "MODEL_ALGO = 'XGB_opt'                      # Name of the classifier\n",
    "MODEL_NAME = FTS_NAME + '_' + MODEL_ALGO    # Name of the model"
   ]
  },
  {
   "cell_type": "markdown",
   "metadata": {},
   "source": [
    "**COMPUTE FEATURES**\n",
    "\n",
    "- Change the `fe._` method depending on the feature that we wish to calculate"
   ]
  },
  {
   "cell_type": "code",
   "execution_count": 5,
   "metadata": {},
   "outputs": [
    {
     "name": "stdout",
     "output_type": "stream",
     "text": [
      "Computing features ... \n",
      "Number of samples: 766\n",
      "\u001b[34mtrain => (766, 1584)\u001b[0m\n",
      "Number of samples: 1059\n",
      "\u001b[34mtrain => (1059, 1584)\u001b[0m\n",
      "Number of samples: 804\n",
      "\u001b[34mtrain => (804, 1584)\u001b[0m\n",
      "\n",
      "Creating SAM testbed samples ...\n",
      "Train shape: (754, 1584)\n",
      "Valid shape: (12, 1584)\n"
     ]
    }
   ],
   "source": [
    "# Check if feature is computed and load it or choose to compute it\n",
    "check_file = 0\n",
    "for i in ['_tr', '_trvl', '_vlte']:\n",
    "    check_file += os.path.exists(os.path.join(config.DATA_DIR_OUT, FTS_NAME +\n",
    "                                              str(i) + '.csv'))\n",
    "\n",
    "if (check_file == 3) & (not COMPUTE_FTS):\n",
    "    print('Reading features ... ')\n",
    "    X_tr = pd.read_csv(os.path.join(config.DATA_DIR_OUT, FTS_NAME + '_tr.csv'))\n",
    "    print(X_tr.shape)\n",
    "    X_trvl = pd.read_csv(os.path.join(config.DATA_DIR_OUT, FTS_NAME + '_trvl.csv'))\n",
    "    print(X_trvl.shape)\n",
    "    X_vlte = pd.read_csv(os.path.join(config.DATA_DIR_OUT, FTS_NAME + '_vlte.csv'))\n",
    "    print(X_vlte.shape)\n",
    "    \n",
    "else:\n",
    "    print('Computing features ... ')\n",
    "    # ----- TRAIN -----\n",
    "    fe = CreateFeatures(metadata, train_files, 'tr')\n",
    "    X_tr = fe.fts_mra_tempmz()\n",
    "    print(colored(f'train => {X_tr.shape}', 'blue'))\n",
    "    \n",
    "    # ----- TRAIN & VALID -----\n",
    "    fe = CreateFeatures(metadata, trva_files, 'trvl')\n",
    "    X_trvl = fe.fts_mra_tempmz()\n",
    "    print(colored(f'train => {X_trvl.shape}', 'blue'))\n",
    "    \n",
    "    # ----- VALID & TEST -----\n",
    "    fe = CreateFeatures(metadata, all_test_files, 'vlte')\n",
    "    X_vlte = fe.fts_mra_tempmz()\n",
    "    print(colored(f'train => {X_vlte.shape}', 'blue'))\n",
    "    \n",
    "if COMPUTE_FTS_SAM:\n",
    "    print(f'\\nCreating SAM testbed samples ...')\n",
    "    # Training without SAM testbed\n",
    "    X_tr_sam = X_tr.drop(X_tr.tail(len(sam_files)).index).copy()\n",
    "    print(f'Train shape: {X_tr_sam.shape}')\n",
    "    # Validation data\n",
    "    X_vl_sam = X_tr.tail(len(sam_files)).copy()\n",
    "    print(f'Valid shape: {X_vl_sam.shape}')"
   ]
  },
  {
   "cell_type": "markdown",
   "metadata": {},
   "source": [
    "## MODELS"
   ]
  },
  {
   "cell_type": "markdown",
   "metadata": {},
   "source": [
    "**TRAIN**"
   ]
  },
  {
   "cell_type": "code",
   "execution_count": 6,
   "metadata": {},
   "outputs": [
    {
     "name": "stdout",
     "output_type": "stream",
     "text": [
      "\u001b[34mCV training ....\u001b[0m\n",
      "\u001b[35mbasalt\u001b[0m\n",
      "\u001b[35mcarbonate\u001b[0m\n",
      "\u001b[35mchloride\u001b[0m\n",
      "\u001b[35miron_oxide\u001b[0m\n",
      "\u001b[35moxalate\u001b[0m\n",
      "\u001b[35moxychlorine\u001b[0m\n",
      "\u001b[35mphyllosilicate\u001b[0m\n",
      "\u001b[35msilicate\u001b[0m\n",
      "\u001b[35msulfate\u001b[0m\n",
      "\u001b[35msulfide\u001b[0m\n",
      "\u001b[34mFull training .....\u001b[0m\n",
      "\u001b[34mLABEL: basalt\u001b[0m\n",
      "\u001b[34mLABEL: carbonate\u001b[0m\n",
      "\u001b[34mLABEL: chloride\u001b[0m\n",
      "\u001b[34mLABEL: iron_oxide\u001b[0m\n",
      "\u001b[34mLABEL: oxalate\u001b[0m\n",
      "\u001b[34mLABEL: oxychlorine\u001b[0m\n",
      "\u001b[34mLABEL: phyllosilicate\u001b[0m\n",
      "\u001b[34mLABEL: silicate\u001b[0m\n",
      "\u001b[34mLABEL: sulfate\u001b[0m\n",
      "\u001b[34mLABEL: sulfide\u001b[0m\n",
      "\u001b[34m\n",
      "Average Log Loss: 0.2759\u001b[0m\n",
      "Log Loss per Label:\n",
      "{'basalt': 0.27678260590883075, 'carbonate': 0.2612545003933846, 'chloride': 0.2842979960325033, 'iron_oxide': 0.3824699336087238, 'oxalate': 0.004059239489520996, 'oxychlorine': 0.2991500982787292, 'phyllosilicate': 0.4074758334090647, 'silicate': 0.35168474392654814, 'sulfate': 0.34471883287139204, 'sulfide': 0.14713584783404984}\n",
      "(293, 10)\n"
     ]
    }
   ],
   "source": [
    "# ===== TRAIN =====\n",
    "cvloss, submission_model = training.train_tbl(\n",
    "    df_train=X_tr,\n",
    "    df_labels=train_labels,\n",
    "    target_list=target_labels_list,\n",
    "    df_test=X_vlte,\n",
    "    model_algo=MODEL_ALGO,\n",
    "    sub_name=MODEL_NAME + '_tr'\n",
    "    )\n",
    "\n",
    "# Compute validation loss when full model is trained\n",
    "mloss, mloss_avg = training.compute_valid_loss(submission_model,\n",
    "                                               valid_files, valid_labels,\n",
    "                                               target_labels_list,\n",
    "                                               sub_name=MODEL_NAME + '_tr')"
   ]
  },
  {
   "cell_type": "code",
   "execution_count": 7,
   "metadata": {},
   "outputs": [
    {
     "name": "stdout",
     "output_type": "stream",
     "text": [
      "CV Logloss: 0.27590296317527474\n",
      "VALID FM LogLoss: 0.27328136675340103\n",
      "CV logLoss Label\n",
      "{'basalt': 0.27678260590883075, 'carbonate': 0.2612545003933846, 'chloride': 0.2842979960325033, 'iron_oxide': 0.3824699336087238, 'oxalate': 0.004059239489520996, 'oxychlorine': 0.2991500982787292, 'phyllosilicate': 0.4074758334090647, 'silicate': 0.35168474392654814, 'sulfate': 0.34471883287139204, 'sulfide': 0.14713584783404984}\n"
     ]
    }
   ],
   "source": [
    "print(f'CV Logloss: {np.mean(list(cvloss.values()))}')\n",
    "print(f'VALID FM LogLoss: {mloss_avg}')\n",
    "print(f'CV logLoss Label')\n",
    "print(cvloss)"
   ]
  },
  {
   "cell_type": "markdown",
   "metadata": {},
   "source": [
    "**TRAIN & VALID**"
   ]
  },
  {
   "cell_type": "code",
   "execution_count": 8,
   "metadata": {},
   "outputs": [
    {
     "name": "stdout",
     "output_type": "stream",
     "text": [
      "\u001b[34mCV training ....\u001b[0m\n",
      "\u001b[35mbasalt\u001b[0m\n",
      "\u001b[35mcarbonate\u001b[0m\n",
      "\u001b[35mchloride\u001b[0m\n",
      "\u001b[35miron_oxide\u001b[0m\n",
      "\u001b[35moxalate\u001b[0m\n",
      "\u001b[35moxychlorine\u001b[0m\n",
      "\u001b[35mphyllosilicate\u001b[0m\n",
      "\u001b[35msilicate\u001b[0m\n",
      "\u001b[35msulfate\u001b[0m\n",
      "\u001b[35msulfide\u001b[0m\n",
      "\u001b[34mFull training .....\u001b[0m\n",
      "\u001b[34mLABEL: basalt\u001b[0m\n",
      "\u001b[34mLABEL: carbonate\u001b[0m\n",
      "\u001b[34mLABEL: chloride\u001b[0m\n",
      "\u001b[34mLABEL: iron_oxide\u001b[0m\n",
      "\u001b[34mLABEL: oxalate\u001b[0m\n",
      "\u001b[34mLABEL: oxychlorine\u001b[0m\n",
      "\u001b[34mLABEL: phyllosilicate\u001b[0m\n",
      "\u001b[34mLABEL: silicate\u001b[0m\n",
      "\u001b[34mLABEL: sulfate\u001b[0m\n",
      "\u001b[34mLABEL: sulfide\u001b[0m\n",
      "\u001b[34m\n",
      "Average Log Loss: 0.2602\u001b[0m\n",
      "Log Loss per Label:\n",
      "{'basalt': 0.26152610421079714, 'carbonate': 0.22292052739226142, 'chloride': 0.25846765369554403, 'iron_oxide': 0.37216113777027066, 'oxalate': 0.004914672949143167, 'oxychlorine': 0.2526301582566911, 'phyllosilicate': 0.4112433512412358, 'silicate': 0.3498702145055753, 'sulfate': 0.3228680540360762, 'sulfide': 0.1453285461910574}\n"
     ]
    }
   ],
   "source": [
    "# ===== TRAIN =====\n",
    "cvloss, submission_model = training.train_tbl(\n",
    "    df_train=X_trvl,\n",
    "    df_labels=trvl_labels,\n",
    "    target_list=target_labels_list,\n",
    "    df_test=X_vlte,\n",
    "    model_algo=MODEL_ALGO,\n",
    "    sub_name=MODEL_NAME + '_trvl'\n",
    "    )"
   ]
  },
  {
   "cell_type": "code",
   "execution_count": 9,
   "metadata": {},
   "outputs": [
    {
     "name": "stdout",
     "output_type": "stream",
     "text": [
      "CV Logloss: 0.2601930420248652\n",
      "CV logLoss Label\n",
      "{'basalt': 0.26152610421079714, 'carbonate': 0.22292052739226142, 'chloride': 0.25846765369554403, 'iron_oxide': 0.37216113777027066, 'oxalate': 0.004914672949143167, 'oxychlorine': 0.2526301582566911, 'phyllosilicate': 0.4112433512412358, 'silicate': 0.3498702145055753, 'sulfate': 0.3228680540360762, 'sulfide': 0.1453285461910574}\n"
     ]
    }
   ],
   "source": [
    "print(f'CV Logloss: {np.mean(list(cvloss.values()))}')\n",
    "print(f'CV logLoss Label')\n",
    "print(cvloss)"
   ]
  },
  {
   "cell_type": "markdown",
   "metadata": {},
   "source": [
    "**SAM TRAINING**"
   ]
  },
  {
   "cell_type": "code",
   "execution_count": 10,
   "metadata": {},
   "outputs": [
    {
     "name": "stdout",
     "output_type": "stream",
     "text": [
      "\u001b[34mCV training ....\u001b[0m\n",
      "\u001b[35mbasalt\u001b[0m\n",
      "\u001b[35mcarbonate\u001b[0m\n",
      "\u001b[35mchloride\u001b[0m\n",
      "\u001b[35miron_oxide\u001b[0m\n",
      "\u001b[35moxalate\u001b[0m\n",
      "\u001b[35moxychlorine\u001b[0m\n",
      "\u001b[35mphyllosilicate\u001b[0m\n",
      "\u001b[35msilicate\u001b[0m\n",
      "\u001b[35msulfate\u001b[0m\n",
      "\u001b[35msulfide\u001b[0m\n",
      "\u001b[34mFull training .....\u001b[0m\n",
      "\u001b[34mLABEL: basalt\u001b[0m\n",
      "\u001b[34mLABEL: carbonate\u001b[0m\n",
      "\u001b[34mLABEL: chloride\u001b[0m\n",
      "\u001b[34mLABEL: iron_oxide\u001b[0m\n",
      "\u001b[34mLABEL: oxalate\u001b[0m\n",
      "\u001b[34mLABEL: oxychlorine\u001b[0m\n",
      "\u001b[34mLABEL: phyllosilicate\u001b[0m\n",
      "\u001b[34mLABEL: silicate\u001b[0m\n",
      "\u001b[34mLABEL: sulfate\u001b[0m\n",
      "\u001b[34mLABEL: sulfide\u001b[0m\n",
      "\u001b[34m\n",
      "Average Log Loss: 0.2704\u001b[0m\n",
      "Log Loss per Label:\n",
      "{'basalt': 0.2808329837457333, 'carbonate': 0.2396414000642748, 'chloride': 0.2944534149635854, 'iron_oxide': 0.3627412891834739, 'oxalate': 0.003807048659824649, 'oxychlorine': 0.28098086045920684, 'phyllosilicate': 0.4096872796425961, 'silicate': 0.3550628205936525, 'sulfate': 0.32020170372120454, 'sulfide': 0.15613394403395534}\n",
      "(12, 10)\n"
     ]
    }
   ],
   "source": [
    "# ===== TRAIN SAM =====\n",
    "cvloss, submission_model = training.train_tbl(\n",
    "    df_train=X_tr_sam,\n",
    "    df_labels=sam_labels,\n",
    "    target_list=target_labels_list,\n",
    "    df_test=X_vl_sam,\n",
    "    model_algo=MODEL_ALGO,\n",
    "    sub_name=MODEL_NAME + '_sam',\n",
    "    test_sam=True\n",
    "    )\n",
    "\n",
    "# Compute validation loss when full model is trained\n",
    "mloss, mloss_avg = training.compute_valid_loss(submission_model,\n",
    "                                               sam_files, sam_labels,\n",
    "                                               target_labels_list,\n",
    "                                               sub_name=MODEL_NAME + '_sam')"
   ]
  },
  {
   "cell_type": "code",
   "execution_count": 11,
   "metadata": {},
   "outputs": [
    {
     "name": "stdout",
     "output_type": "stream",
     "text": [
      "CV Logloss: 0.27035427450675076\n",
      "VALID FM LogLoss: 1.3671033893386526\n",
      "CV logLoss Label\n",
      "{'basalt': 0.2808329837457333, 'carbonate': 0.2396414000642748, 'chloride': 0.2944534149635854, 'iron_oxide': 0.3627412891834739, 'oxalate': 0.003807048659824649, 'oxychlorine': 0.28098086045920684, 'phyllosilicate': 0.4096872796425961, 'silicate': 0.3550628205936525, 'sulfate': 0.32020170372120454, 'sulfide': 0.15613394403395534}\n"
     ]
    }
   ],
   "source": [
    "print(f'CV Logloss: {np.mean(list(cvloss.values()))}')\n",
    "print(f'VALID FM LogLoss: {mloss_avg}')\n",
    "print(f'CV logLoss Label')\n",
    "print(cvloss)"
   ]
  },
  {
   "cell_type": "code",
   "execution_count": null,
   "metadata": {},
   "outputs": [],
   "source": []
  }
 ],
 "metadata": {
  "interpreter": {
   "hash": "cfa1bb730ddeebc089519bcd4ec0e31841e14f65d7c169a2b301ba6e4e1462a0"
  },
  "kernelspec": {
   "display_name": "Python 3.9.7 ('nasamars')",
   "language": "python",
   "name": "python3"
  },
  "language_info": {
   "codemirror_mode": {
    "name": "ipython",
    "version": 3
   },
   "file_extension": ".py",
   "mimetype": "text/x-python",
   "name": "python",
   "nbconvert_exporter": "python",
   "pygments_lexer": "ipython3",
   "version": "3.9.7"
  },
  "orig_nbformat": 4
 },
 "nbformat": 4,
 "nbformat_minor": 2
}
