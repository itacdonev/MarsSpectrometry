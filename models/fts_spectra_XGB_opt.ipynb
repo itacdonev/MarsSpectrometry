{
 "cells": [
  {
   "cell_type": "code",
   "execution_count": 1,
   "metadata": {},
   "outputs": [],
   "source": [
    "%reload_ext autoreload\n",
    "%autoreload 2\n",
    "\n",
    "%matplotlib inline\n",
    "%config InlineBackend.figure_format = 'retina'"
   ]
  },
  {
   "cell_type": "code",
   "execution_count": 2,
   "metadata": {},
   "outputs": [
    {
     "name": "stderr",
     "output_type": "stream",
     "text": [
      "/Users/itacdonev/opt/miniconda3/envs/nasamars/lib/python3.9/site-packages/xgboost/compat.py:36: FutureWarning: pandas.Int64Index is deprecated and will be removed from pandas in a future version. Use pandas.Index with the appropriate dtype instead.\n",
      "  from pandas import MultiIndex, Int64Index\n"
     ]
    }
   ],
   "source": [
    "## Environment\n",
    "# Change main system path to be able to run code from src folder\n",
    "import sys\n",
    "p = sys.path[0]\n",
    "# Mac OS\n",
    "if sys.path[0].endswith('/models'):\n",
    "    main_path = p[:-len('/models')]\n",
    "sys.path[0] = main_path\n",
    "\n",
    "import os, gc\n",
    "from termcolor import colored\n",
    "from tqdm import tqdm\n",
    "import pandas as pd\n",
    "import numpy as np\n",
    "import matplotlib.pyplot as plt\n",
    "from sklearn.metrics import log_loss\n",
    "from src import (config, fe, features, preprocess, training)\n",
    "from src.fe import CreateFeatures"
   ]
  },
  {
   "cell_type": "code",
   "execution_count": 3,
   "metadata": {},
   "outputs": [
    {
     "name": "stdout",
     "output_type": "stream",
     "text": [
      "Metadata: (1570, 5)\n",
      "Train labels: (766, 11)\n",
      "Train labels: (293, 11)\n",
      "Submission: (804, 11)\n",
      "['basalt', 'carbonate', 'chloride', 'iron_oxide', 'oxalate', 'oxychlorine', 'phyllosilicate', 'silicate', 'sulfate', 'sulfide']\n",
      "Labels w/o SAM : (1047, 11)\n"
     ]
    }
   ],
   "source": [
    "# DATA PREPARATION\n",
    "# ===== LOAD DATA ======\n",
    "metadata = pd.read_csv(config.DATA_DIR + 'metadata.csv')\n",
    "print(f'Metadata: {metadata.shape}')\n",
    "\n",
    "train_labels = pd.read_csv(config.DATA_DIR + 'train_labels.csv')\n",
    "print(f'Train labels: {train_labels.shape}')\n",
    "\n",
    "valid_labels = pd.read_csv(config.DATA_DIR + 'val_labels.csv')\n",
    "print(f'Train labels: {valid_labels.shape}')\n",
    "\n",
    "# Combine train and valid labels\n",
    "trvl_labels = pd.concat([train_labels, valid_labels], axis = 0)\n",
    "\n",
    "submission = pd.read_csv(config.DATA_DIR + 'submission_format.csv')\n",
    "print(f'Submission: {submission.shape}')\n",
    "\n",
    "# ===== FILE PATHS OF SAMPLES =====\n",
    "train_files = metadata[metadata.split == 'train']['features_path'].to_dict()\n",
    "valid_files = metadata[metadata.split == 'val']['features_path'].to_dict()\n",
    "test_files = metadata[metadata.split == 'test']['features_path'].to_dict()\n",
    "# Train & Valid files\n",
    "trva_files = train_files.copy()\n",
    "trva_files.update(valid_files)\n",
    "# All files\n",
    "all_test_files = valid_files.copy()\n",
    "all_test_files.update(test_files)\n",
    "\n",
    "# Define SAM testbed files\n",
    "sam_files = metadata[(metadata.instrument_type == 'sam_testbed') & (metadata.split == 'train')]['features_path']\n",
    "sam_files = sam_files.to_dict()\n",
    "\n",
    "# Get the names of the target columns in a list\n",
    "target_labels_list = [i for i in train_labels.columns if i not in ['sample_id']]\n",
    "print(target_labels_list)\n",
    "\n",
    "# SAM testbed labels\n",
    "sam_labels = train_labels.drop(train_labels.tail(len(sam_files)).index)\n",
    "sam_labels = pd.concat([sam_labels, valid_labels], axis=0)\n",
    "print(f'Labels w/o SAM : {sam_labels.shape}')"
   ]
  },
  {
   "cell_type": "code",
   "execution_count": 7,
   "metadata": {},
   "outputs": [],
   "source": [
    "FTS_NAME = 'fts_mz_spectra'                 # Name of the file with features\n",
    "COMPUTE_FTS = True                         # Should the features be recomputed\n",
    "COMPUTE_FTS_SAM = True                      # Compute SAM test bed\n",
    "MODEL_ALGO = 'XGB_opt'                      # Name of the classifier\n",
    "MODEL_NAME = FTS_NAME + '_' + MODEL_ALGO    # Name of the model"
   ]
  },
  {
   "cell_type": "markdown",
   "metadata": {},
   "source": [
    "**COMPUTE FEATURES**\n",
    "\n",
    "- Change the `fe._` method depending on the feature that we wish to calculate"
   ]
  },
  {
   "cell_type": "code",
   "execution_count": 12,
   "metadata": {},
   "outputs": [
    {
     "name": "stdout",
     "output_type": "stream",
     "text": [
      "Computing features ... \n"
     ]
    },
    {
     "name": "stderr",
     "output_type": "stream",
     "text": [
      "100%|██████████| 766/766 [01:09<00:00, 10.96it/s]\n"
     ]
    },
    {
     "name": "stdout",
     "output_type": "stream",
     "text": [
      "\u001b[34mtrain => (766, 10)\u001b[0m\n"
     ]
    },
    {
     "name": "stderr",
     "output_type": "stream",
     "text": [
      "100%|██████████| 1059/1059 [01:36<00:00, 10.97it/s]\n"
     ]
    },
    {
     "name": "stdout",
     "output_type": "stream",
     "text": [
      "\u001b[34mtrain => (1059, 10)\u001b[0m\n"
     ]
    },
    {
     "name": "stderr",
     "output_type": "stream",
     "text": [
      "100%|██████████| 804/804 [01:17<00:00, 10.43it/s]"
     ]
    },
    {
     "name": "stdout",
     "output_type": "stream",
     "text": [
      "\u001b[34mtrain => (804, 10)\u001b[0m\n",
      "\n",
      "Creating SAM testbed samples ...\n",
      "Train shape: (293, 10)\n",
      "Valid shape: (12, 10)\n"
     ]
    },
    {
     "name": "stderr",
     "output_type": "stream",
     "text": [
      "\n"
     ]
    }
   ],
   "source": [
    "# Check if feature is computed and load it or choose to compute it\n",
    "check_file = 0\n",
    "for i in ['_tr', '_trvl', '_vlte']:\n",
    "    check_file += os.path.exists(os.path.join(config.DATA_DIR_OUT, FTS_NAME +\n",
    "                                              str(i) + '.csv'))\n",
    "\n",
    "if (check_file == 3) & (not COMPUTE_FTS):\n",
    "    print('Reading features ... ')\n",
    "    X_tr = pd.read_csv(os.path.join(config.DATA_DIR_OUT, FTS_NAME + '_tr.csv'))\n",
    "    print(X_tr.shape)\n",
    "    X_trvl = pd.read_csv(os.path.join(config.DATA_DIR_OUT, FTS_NAME + '_trvl.csv'))\n",
    "    print(X_trvl.shape)\n",
    "    X_vlte = pd.read_csv(os.path.join(config.DATA_DIR_OUT, FTS_NAME + '_vlte.csv'))\n",
    "    print(X_vlte.shape)\n",
    "    \n",
    "else:\n",
    "    print('Computing features ... ')\n",
    "    # ----- TRAIN -----\n",
    "    fe = CreateFeatures(metadata, train_files, 'tr', FTS_NAME)\n",
    "    X_tr = fe.fts_spectra()\n",
    "    print(colored(f'train => {X_tr.shape}', 'blue'))\n",
    "    \n",
    "    # ----- TRAIN & VALID -----\n",
    "    fe = CreateFeatures(metadata, trva_files, 'trvl', FTS_NAME)\n",
    "    X_trvl = fe.fts_spectra()\n",
    "    print(colored(f'train => {X_trvl.shape}', 'blue'))\n",
    "    \n",
    "    # ----- VALID & TEST -----\n",
    "    fe = CreateFeatures(metadata, all_test_files, 'vlte', FTS_NAME)\n",
    "    X_vlte = fe.fts_spectra()\n",
    "    print(colored(f'train => {X_vlte.shape}', 'blue'))\n",
    "    \n",
    "if COMPUTE_FTS_SAM:\n",
    "    print(f'\\nCreating SAM testbed samples ...')\n",
    "    # Training without SAM testbed\n",
    "    X_tr_sam = X_tr.drop(X_tr.tail(len(sam_files)).index).copy()\n",
    "    X_tr_sam = pd.concat([X_tr_sam, X_trvl.iloc[len(train_files):,:]], axis=0)\n",
    "    print(f'Train shape: {X_tr_sam.shape}')\n",
    "    # Validation data\n",
    "    X_vl_sam = X_tr.tail(len(sam_files)).copy()\n",
    "    print(f'Valid shape: {X_vl_sam.shape}')"
   ]
  },
  {
   "cell_type": "markdown",
   "metadata": {},
   "source": [
    "## MODELS"
   ]
  },
  {
   "cell_type": "markdown",
   "metadata": {},
   "source": [
    "**TRAIN**"
   ]
  },
  {
   "cell_type": "code",
   "execution_count": null,
   "metadata": {},
   "outputs": [],
   "source": [
    "# ===== TRAIN =====\n",
    "cvloss, submission_model = training.train_tbl(\n",
    "    df_train=X_tr,\n",
    "    df_labels=train_labels,\n",
    "    target_list=target_labels_list,\n",
    "    df_test=X_vlte,\n",
    "    model_algo=MODEL_ALGO,\n",
    "    sub_name=MODEL_NAME + '_tr'\n",
    "    )\n",
    "\n",
    "# Compute validation loss when full model is trained\n",
    "mloss, mloss_avg = training.compute_valid_loss(submission_model,\n",
    "                                               valid_files, valid_labels,\n",
    "                                               target_labels_list,\n",
    "                                               sub_name=MODEL_NAME + '_tr')"
   ]
  },
  {
   "cell_type": "code",
   "execution_count": null,
   "metadata": {},
   "outputs": [],
   "source": [
    "print(f'CV Logloss: {np.mean(list(cvloss.values()))}')\n",
    "print(f'VALID FM LogLoss: {mloss_avg}')\n",
    "print(f'CV logLoss Label')\n",
    "print(cvloss)"
   ]
  },
  {
   "cell_type": "markdown",
   "metadata": {},
   "source": [
    "**TRAIN & VALID**"
   ]
  },
  {
   "cell_type": "code",
   "execution_count": null,
   "metadata": {},
   "outputs": [],
   "source": [
    "# ===== TRAIN =====\n",
    "cvloss, submission_model = training.train_tbl(\n",
    "    df_train=X_trvl,\n",
    "    df_labels=trvl_labels,\n",
    "    target_list=target_labels_list,\n",
    "    df_test=X_vlte,\n",
    "    model_algo=MODEL_ALGO,\n",
    "    sub_name=MODEL_NAME + '_trvl'\n",
    "    )"
   ]
  },
  {
   "cell_type": "code",
   "execution_count": null,
   "metadata": {},
   "outputs": [],
   "source": [
    "print(f'CV Logloss: {np.mean(list(cvloss.values()))}')\n",
    "print(f'CV logLoss Label')\n",
    "print(cvloss)"
   ]
  },
  {
   "cell_type": "markdown",
   "metadata": {},
   "source": [
    "**SAM TRAINING**"
   ]
  },
  {
   "cell_type": "code",
   "execution_count": null,
   "metadata": {},
   "outputs": [],
   "source": [
    "# ===== TRAIN SAM =====\n",
    "cvloss, submission_model = training.train_tbl(\n",
    "    df_train=X_tr_sam,\n",
    "    df_labels=sam_labels,\n",
    "    target_list=target_labels_list,\n",
    "    df_test=X_vl_sam,\n",
    "    model_algo=MODEL_ALGO,\n",
    "    sub_name=MODEL_NAME + '_sam',\n",
    "    test_sam=True\n",
    "    )\n",
    "\n",
    "# Compute validation loss when full model is trained\n",
    "mloss, mloss_avg = training.compute_valid_loss(submission_model,\n",
    "                                               sam_files, sam_labels,\n",
    "                                               target_labels_list,\n",
    "                                               sub_name=MODEL_NAME + '_sam')"
   ]
  },
  {
   "cell_type": "code",
   "execution_count": null,
   "metadata": {},
   "outputs": [],
   "source": [
    "print(f'CV Logloss: {np.mean(list(cvloss.values()))}')\n",
    "print(f'VALID FM LogLoss: {mloss_avg}')\n",
    "print(f'CV logLoss Label')\n",
    "print(cvloss)"
   ]
  },
  {
   "cell_type": "code",
   "execution_count": null,
   "metadata": {},
   "outputs": [],
   "source": []
  }
 ],
 "metadata": {
  "interpreter": {
   "hash": "cfa1bb730ddeebc089519bcd4ec0e31841e14f65d7c169a2b301ba6e4e1462a0"
  },
  "kernelspec": {
   "display_name": "Python 3.9.7 ('nasamars')",
   "language": "python",
   "name": "python3"
  },
  "language_info": {
   "codemirror_mode": {
    "name": "ipython",
    "version": 3
   },
   "file_extension": ".py",
   "mimetype": "text/x-python",
   "name": "python",
   "nbconvert_exporter": "python",
   "pygments_lexer": "ipython3",
   "version": "3.9.7"
  },
  "orig_nbformat": 4
 },
 "nbformat": 4,
 "nbformat_minor": 2
}
