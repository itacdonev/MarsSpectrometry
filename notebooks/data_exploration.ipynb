{
 "cells": [
  {
   "cell_type": "markdown",
   "metadata": {},
   "source": [
    "This notebook closely follows the [benchmark notebook](https://www.drivendata.co/blog/mars-spectrometry-benchmark/) provided by the competition organizors. It will serve as a starting point in understanding the problem."
   ]
  },
  {
   "cell_type": "markdown",
   "metadata": {},
   "source": [
    "# Environment"
   ]
  },
  {
   "cell_type": "code",
   "execution_count": 1,
   "metadata": {},
   "outputs": [],
   "source": [
    "%reload_ext autoreload\n",
    "%autoreload 2\n",
    "\n",
    "%matplotlib inline\n",
    "%config InlineBackend.figure_format = 'retina'"
   ]
  },
  {
   "cell_type": "code",
   "execution_count": 2,
   "metadata": {},
   "outputs": [],
   "source": [
    "# Change main system path to be able to run code from src folder\n",
    "import sys\n",
    "p = sys.path[0]\n",
    "# Mac OS\n",
    "if sys.path[0].endswith('/notebooks'):\n",
    "    main_path = p[:-len('/notebooks')]\n",
    "if sys.path[0].endswith('/techdoc/content'):\n",
    "    main_path = p[:-len('/techdoc/content')]\n",
    "    \n",
    "# Windows OS\n",
    "if sys.path[0].endswith('\\\\notebooks'): \n",
    "    main_path = p[:-len('\\\\notebooks')]\n",
    "if sys.path[0].endswith('\\\\techdoc\\content'): \n",
    "    main_path = p[:-len('\\\\techdoc\\content')]\n",
    "\n",
    "sys.path[0] = main_path"
   ]
  },
  {
   "cell_type": "code",
   "execution_count": 77,
   "metadata": {},
   "outputs": [],
   "source": [
    "import pandas as pd\n",
    "import numpy as np\n",
    "import matplotlib.pyplot as plt\n",
    "\n",
    "import random\n",
    "\n",
    "from src import config"
   ]
  },
  {
   "cell_type": "markdown",
   "metadata": {},
   "source": [
    "# LOADING THE DATA"
   ]
  },
  {
   "cell_type": "code",
   "execution_count": 60,
   "metadata": {},
   "outputs": [
    {
     "name": "stdout",
     "output_type": "stream",
     "text": [
      "Metadata: (1570, 5)\n",
      "Train labels: (766, 11)\n",
      "Submission: (804, 11)\n"
     ]
    }
   ],
   "source": [
    "metadata = pd.read_csv(config.DATA_DIR + 'metadata.csv')\n",
    "print(f'Metadata: {metadata.shape}')\n",
    "\n",
    "train_labels = pd.read_csv(config.DATA_DIR + 'train_labels.csv')\n",
    "print(f'Train labels: {train_labels.shape}')\n",
    "\n",
    "submission = pd.read_csv(config.DATA_DIR + 'submission_format.csv')\n",
    "print(f'Submission: {submission.shape}')"
   ]
  },
  {
   "cell_type": "markdown",
   "metadata": {},
   "source": [
    "Check whether the samples are unique in the table."
   ]
  },
  {
   "cell_type": "code",
   "execution_count": 13,
   "metadata": {},
   "outputs": [
    {
     "name": "stdout",
     "output_type": "stream",
     "text": [
      "True\n"
     ]
    }
   ],
   "source": [
    "print(metadata.sample_id.nunique() == metadata.shape[0])"
   ]
  },
  {
   "cell_type": "code",
   "execution_count": 14,
   "metadata": {},
   "outputs": [
    {
     "data": {
      "text/html": [
       "<div>\n",
       "<style scoped>\n",
       "    .dataframe tbody tr th:only-of-type {\n",
       "        vertical-align: middle;\n",
       "    }\n",
       "\n",
       "    .dataframe tbody tr th {\n",
       "        vertical-align: top;\n",
       "    }\n",
       "\n",
       "    .dataframe thead th {\n",
       "        text-align: right;\n",
       "    }\n",
       "</style>\n",
       "<table border=\"1\" class=\"dataframe\">\n",
       "  <thead>\n",
       "    <tr style=\"text-align: right;\">\n",
       "      <th></th>\n",
       "      <th>sample_id</th>\n",
       "      <th>split</th>\n",
       "      <th>instrument_type</th>\n",
       "      <th>features_path</th>\n",
       "      <th>features_md5_hash</th>\n",
       "    </tr>\n",
       "  </thead>\n",
       "  <tbody>\n",
       "    <tr>\n",
       "      <th>0</th>\n",
       "      <td>S0000</td>\n",
       "      <td>train</td>\n",
       "      <td>commercial</td>\n",
       "      <td>train_features/S0000.csv</td>\n",
       "      <td>017b9a71a702e81a828e6242aa15f049</td>\n",
       "    </tr>\n",
       "    <tr>\n",
       "      <th>1</th>\n",
       "      <td>S0001</td>\n",
       "      <td>train</td>\n",
       "      <td>commercial</td>\n",
       "      <td>train_features/S0001.csv</td>\n",
       "      <td>0d09840214054d254bd49436c6a6f315</td>\n",
       "    </tr>\n",
       "    <tr>\n",
       "      <th>2</th>\n",
       "      <td>S0002</td>\n",
       "      <td>train</td>\n",
       "      <td>commercial</td>\n",
       "      <td>train_features/S0002.csv</td>\n",
       "      <td>3f58b3c9b001bfed6ed4e4f757083e09</td>\n",
       "    </tr>\n",
       "    <tr>\n",
       "      <th>3</th>\n",
       "      <td>S0003</td>\n",
       "      <td>train</td>\n",
       "      <td>commercial</td>\n",
       "      <td>train_features/S0003.csv</td>\n",
       "      <td>e9a12f96114a2fda60b36f4c0f513fb1</td>\n",
       "    </tr>\n",
       "    <tr>\n",
       "      <th>4</th>\n",
       "      <td>S0004</td>\n",
       "      <td>train</td>\n",
       "      <td>commercial</td>\n",
       "      <td>train_features/S0004.csv</td>\n",
       "      <td>b67603d3931897bfa796ac42cc16de78</td>\n",
       "    </tr>\n",
       "  </tbody>\n",
       "</table>\n",
       "</div>"
      ],
      "text/plain": [
       "  sample_id  split instrument_type             features_path  \\\n",
       "0     S0000  train      commercial  train_features/S0000.csv   \n",
       "1     S0001  train      commercial  train_features/S0001.csv   \n",
       "2     S0002  train      commercial  train_features/S0002.csv   \n",
       "3     S0003  train      commercial  train_features/S0003.csv   \n",
       "4     S0004  train      commercial  train_features/S0004.csv   \n",
       "\n",
       "                  features_md5_hash  \n",
       "0  017b9a71a702e81a828e6242aa15f049  \n",
       "1  0d09840214054d254bd49436c6a6f315  \n",
       "2  3f58b3c9b001bfed6ed4e4f757083e09  \n",
       "3  e9a12f96114a2fda60b36f4c0f513fb1  \n",
       "4  b67603d3931897bfa796ac42cc16de78  "
      ]
     },
     "execution_count": 14,
     "metadata": {},
     "output_type": "execute_result"
    }
   ],
   "source": [
    "metadata.head()"
   ]
  },
  {
   "cell_type": "code",
   "execution_count": 15,
   "metadata": {},
   "outputs": [
    {
     "data": {
      "text/plain": [
       "train    766\n",
       "test     511\n",
       "val      293\n",
       "Name: split, dtype: int64"
      ]
     },
     "execution_count": 15,
     "metadata": {},
     "output_type": "execute_result"
    }
   ],
   "source": [
    "metadata.split.value_counts()"
   ]
  },
  {
   "cell_type": "code",
   "execution_count": 16,
   "metadata": {},
   "outputs": [
    {
     "data": {
      "text/plain": [
       "commercial     1494\n",
       "sam_testbed      76\n",
       "Name: instrument_type, dtype: int64"
      ]
     },
     "execution_count": 16,
     "metadata": {},
     "output_type": "execute_result"
    }
   ],
   "source": [
    "metadata.instrument_type.value_counts()"
   ]
  },
  {
   "cell_type": "markdown",
   "metadata": {},
   "source": [
    "Get the file paths from the 'metadata' and save them as dictionaries, where the key will be a value from 0 onwards."
   ]
  },
  {
   "cell_type": "code",
   "execution_count": 61,
   "metadata": {},
   "outputs": [],
   "source": [
    "train_files = metadata[metadata.split == 'train']['features_path'].to_dict()\n",
    "valid_files = metadata[metadata.split == 'val']['features_path'].to_dict()\n",
    "test_files = metadata[metadata.split == 'test']['features_path'].to_dict()"
   ]
  },
  {
   "cell_type": "markdown",
   "metadata": {},
   "source": [
    "# LEARNING ABOUT THE PROBLEM"
   ]
  },
  {
   "cell_type": "markdown",
   "metadata": {},
   "source": [
    "## Goals and Objectives"
   ]
  },
  {
   "cell_type": "markdown",
   "metadata": {},
   "source": [
    "- **goal**: detect the presence of certain families of chemical compounds in geological material samples using EGA data collected from Mars exploration missions."
   ]
  },
  {
   "cell_type": "markdown",
   "metadata": {},
   "source": [
    "The data is based on the EGA mass spectrograms from two different instruments, namely 'commercial' and 'sam_testbed':\n",
    "- **Commercial instruments**: the data comes from commercially manufactured instruments that have been configured as SAM analogs at the Goddard and Johnson labs\n",
    "- **SAM testbed**: the data comes from the SAM testbed at Goddard, a replica of the SAM instrument suite on Curiosity\n",
    "\n",
    "**Data from these two instruments differ in many ways** - see [Problem Description Page](https://www.drivendata.org/competitions/93/nasa-mars-spectrometry/page/438/).\n",
    "- Commercial instruments measure ion abundance as ion current in amps (Coulombs per second), while the SAM testbed measures abundance as counts per second. This results in their respective samples having drastically different orders of magnitude for their abundance values. As noted in the previous section, however, the key idea is to compare relative abundance values within one sample's run, and not to compare absolute abundance values across samples.\n",
    "- Commercial instrument runs will have ion abundance measurements for all m/z values at every timestep of measurement. The SAM testbed can only measure abundance for one m/z value at a time—the mass spectrometer scans across m/z values in ascending order and cycles through its range of detection.\n",
    "- Commercial instrument runs were generally configured to collect data for whole number m/z values from 0.0 to 100.0. The SAM testbed detects ions for a larger range of m/z values, up to 534.0 or 537.0, and data sometimes includes fractional m/z values.\n",
    "    - In general, ions relevant to the detection of the label classes for this competition will be within the 0.0–100.0 range.\n",
    "    - In general, if fractional m/z abundances are significant, they will be highly correlated to those of the nearest whole number m/z, e.g., m/z=1.9 will be highly correlated with 2.0. For EGA data, it is generally enough to only look at the whole number m/z values and ignore the fractional m/z values.\n",
    "\n",
    "## Sample Analysis at Mars ([SAM](https://mars.nasa.gov/msl/spacecraft/instruments/sam/for-scientists/))\n",
    "- SAM is an instrument suite aboard the Curiosity rover on Mars.\n",
    "- takes up more than half of the science component load on the rover\n",
    "- has 6 components: gas chromatograph, mass spectrometer, tunable laser spectrometer, sample manipulation system, sensitivity, and ovens.\n",
    "- The *mass spectrometer* separates elements and compounds by mass for identification and measurement."
   ]
  },
  {
   "cell_type": "markdown",
   "metadata": {},
   "source": [
    "## Mass Spectrometry"
   ]
  },
  {
   "cell_type": "markdown",
   "metadata": {},
   "source": [
    "What is mass spectrometry? [Khan Academy](https://www.khanacademy.org/science/ap-chemistry-beta/x2eef969c74e0d802:atomic-structure-and-properties/x2eef969c74e0d802:mass-spectrometry-of-elements/v/mass-spectrometry)\n",
    "\n",
    "- isotope: different version of an element; can have different atomic mass\n",
    "    - same number of protons but different number of neutrons\n",
    "- the process:\n",
    "    - get a sample\n",
    "    - heat it up so that the sample starts floating around\n",
    "    - bombard it with electrons, to knock off electrons from the sample and it will ionize some of the atoms, which now have charge\n",
    "    - because they have charge they can be accelerated through the electric plates\n",
    "    - enter into a strong magnetic field, which can bend their path. The bending depends on their mass, lower -> deflected more, and vice versa\n",
    "    - detector is at the end which measures where they land and we can see which isotopes we have the most in nature.\n",
    "\n",
    "- 'm/z': mass to charge ratio, where charge is the charge of the ions. If the charge is 1 then m/z is the same as the atomic mass. You need to adjust is it is not in atomic mass.\n",
    "- the relative **abundance** of an isotope is the percentage of atoms with a specific atomic mass found in a naturally occurring sample of an element. It is determined, for each isotope, using mass spectrometry.\n",
    "- because isotopes contain different numbers of neutrons, each isotope has a unique atomic mass.\n",
    "- **atomic mass**: 1u=1/12"
   ]
  },
  {
   "cell_type": "markdown",
   "metadata": {},
   "source": [
    "## Data Description"
   ]
  },
  {
   "cell_type": "markdown",
   "metadata": {},
   "source": [
    "**Labels**:\n",
    "1. Basalt\n",
    "2. Carbonate\n",
    "3. Chloride\n",
    "4. Iron Oxide\n",
    "5. Oxalate\n",
    "6. Oxychlorine (chlorate, perchlorate)\n",
    "7. Phyllosilicate\n",
    "8. Silicate\n",
    "9. Sulfate\n",
    "10. Sulfide\n",
    "\n",
    "Let's check the distribution of the target variables. First we sum all the target variables to see if this is a multiclass or multilabel problem. Then we analyze the distribution of the target labels.\n",
    "\n",
    "We get that the targets can be multiple so this is a multilabel classification problem. Let's plot the distribution of target labels."
   ]
  },
  {
   "cell_type": "code",
   "execution_count": 53,
   "metadata": {},
   "outputs": [
    {
     "data": {
      "text/plain": [
       "False"
      ]
     },
     "execution_count": 53,
     "metadata": {},
     "output_type": "execute_result"
    }
   ],
   "source": [
    "target_sum = train_labels.sum(axis=1, numeric_only=True)\n",
    "all(target_sum == 1)"
   ]
  },
  {
   "cell_type": "markdown",
   "metadata": {},
   "source": [
    "Get the sum for each target label in the sample:"
   ]
  },
  {
   "cell_type": "code",
   "execution_count": 67,
   "metadata": {},
   "outputs": [
    {
     "data": {
      "image/png": "[encoded data removed]",
      "text/plain": [
       "<Figure size 432x288 with 1 Axes>"
      ]
     },
     "metadata": {
      "image/png": {
       "height": 248,
       "width": 424
      },
      "needs_background": "light"
     },
     "output_type": "display_data"
    }
   ],
   "source": [
    "train_labels.sum(axis=0, numeric_only=True).sort_values().plot(kind='barh')\n",
    "plt.show()"
   ]
  },
  {
   "cell_type": "code",
   "execution_count": 68,
   "metadata": {},
   "outputs": [],
   "source": [
    "#TODO WHat are each of these compounds - how do they relate - can this be a feature from the target"
   ]
  },
  {
   "cell_type": "markdown",
   "metadata": {},
   "source": [
    "**Features** of the samples are given by:\n",
    "- `time` - Time in seconds since start of a reference time - start of the experiment.\n",
    "- `temp` – Temperature of the sample in ºC at time of the measurement.\n",
    "- `m/z` – Mass-to-charge ratio of ion being measured; \"type\" of ion detected.\n",
    "- `abundance` – Rate of ions detected, per second. Typically, all abundance values are compared in a relative way within one sample's analysis run. (Note that different samples will have abundances in different units, discussed more later.)"
   ]
  },
  {
   "cell_type": "code",
   "execution_count": 28,
   "metadata": {},
   "outputs": [
    {
     "name": "stdout",
     "output_type": "stream",
     "text": [
      "train_features/S0000.csv\n",
      "(38600, 4)\n"
     ]
    },
    {
     "data": {
      "text/html": [
       "<div>\n",
       "<style scoped>\n",
       "    .dataframe tbody tr th:only-of-type {\n",
       "        vertical-align: middle;\n",
       "    }\n",
       "\n",
       "    .dataframe tbody tr th {\n",
       "        vertical-align: top;\n",
       "    }\n",
       "\n",
       "    .dataframe thead th {\n",
       "        text-align: right;\n",
       "    }\n",
       "</style>\n",
       "<table border=\"1\" class=\"dataframe\">\n",
       "  <thead>\n",
       "    <tr style=\"text-align: right;\">\n",
       "      <th></th>\n",
       "      <th>time</th>\n",
       "      <th>temp</th>\n",
       "      <th>m/z</th>\n",
       "      <th>abundance</th>\n",
       "    </tr>\n",
       "  </thead>\n",
       "  <tbody>\n",
       "    <tr>\n",
       "      <th>0</th>\n",
       "      <td>0.0</td>\n",
       "      <td>35.289</td>\n",
       "      <td>0.0</td>\n",
       "      <td>5.550957e-11</td>\n",
       "    </tr>\n",
       "    <tr>\n",
       "      <th>1</th>\n",
       "      <td>0.0</td>\n",
       "      <td>35.289</td>\n",
       "      <td>1.0</td>\n",
       "      <td>5.318589e-11</td>\n",
       "    </tr>\n",
       "    <tr>\n",
       "      <th>2</th>\n",
       "      <td>0.0</td>\n",
       "      <td>35.289</td>\n",
       "      <td>2.0</td>\n",
       "      <td>2.040361e-11</td>\n",
       "    </tr>\n",
       "    <tr>\n",
       "      <th>3</th>\n",
       "      <td>0.0</td>\n",
       "      <td>35.289</td>\n",
       "      <td>3.0</td>\n",
       "      <td>3.989464e-11</td>\n",
       "    </tr>\n",
       "    <tr>\n",
       "      <th>4</th>\n",
       "      <td>0.0</td>\n",
       "      <td>35.289</td>\n",
       "      <td>4.0</td>\n",
       "      <td>1.594648e-08</td>\n",
       "    </tr>\n",
       "  </tbody>\n",
       "</table>\n",
       "</div>"
      ],
      "text/plain": [
       "   time    temp  m/z     abundance\n",
       "0   0.0  35.289  0.0  5.550957e-11\n",
       "1   0.0  35.289  1.0  5.318589e-11\n",
       "2   0.0  35.289  2.0  2.040361e-11\n",
       "3   0.0  35.289  3.0  3.989464e-11\n",
       "4   0.0  35.289  4.0  1.594648e-08"
      ]
     },
     "execution_count": 28,
     "metadata": {},
     "output_type": "execute_result"
    }
   ],
   "source": [
    "# Get the file path of a sample\n",
    "fp = metadata.iloc[0,3]\n",
    "print(fp)\n",
    "\n",
    "# Load the sample data\n",
    "ht = pd.read_csv(config.DATA_DIR + fp)\n",
    "print(ht.shape)\n",
    "ht.head()"
   ]
  },
  {
   "cell_type": "markdown",
   "metadata": {},
   "source": [
    "# EXPLORATORY DATA ANALYSIS"
   ]
  },
  {
   "cell_type": "markdown",
   "metadata": {},
   "source": [
    "## Instrument type"
   ]
  },
  {
   "cell_type": "markdown",
   "metadata": {},
   "source": [
    "What proportion of instrument type do we have in the train, valid, and test samples? We get the column percentages with `pd.crosstab()` function and the argument `normalize='index'` to get the percentage by rows. We can see from the table below that the most commercial instrument is present in the train set, while in the majority of the SAM measurments are in the test set. Interestingly, there are no SAM measurements in the `val` dataset.\n",
    "\n",
    "> In this competition, it is expected that modeling the SAM testbed data will be difficult, and that there will need to be transfer learning from the commercial instrument data in order to successfully model the SAM testbed data. \n",
    "\n",
    "> The top performers on the SAM testbed samples within the test set will be invited to submit a report of their methodology, to be judged by a panel of experts from NASA. \n",
    "([Ref](https://www.drivendata.co/blog/mars-spectrometry-benchmark/))"
   ]
  },
  {
   "cell_type": "code",
   "execution_count": 69,
   "metadata": {},
   "outputs": [],
   "source": [
    "#TODO Define the testing of the model on the whole sample using the CV and then separately on the commercial vs SAM instrument.  \n",
    "#TODO Can it be done to model on commercial only and do a transfer learning on the SAM instrument."
   ]
  },
  {
   "cell_type": "code",
   "execution_count": 40,
   "metadata": {},
   "outputs": [
    {
     "data": {
      "text/html": [
       "<div>\n",
       "<style scoped>\n",
       "    .dataframe tbody tr th:only-of-type {\n",
       "        vertical-align: middle;\n",
       "    }\n",
       "\n",
       "    .dataframe tbody tr th {\n",
       "        vertical-align: top;\n",
       "    }\n",
       "\n",
       "    .dataframe thead th {\n",
       "        text-align: right;\n",
       "    }\n",
       "</style>\n",
       "<table border=\"1\" class=\"dataframe\">\n",
       "  <thead>\n",
       "    <tr style=\"text-align: right;\">\n",
       "      <th>instrument_type</th>\n",
       "      <th>commercial</th>\n",
       "      <th>sam_testbed</th>\n",
       "      <th>All</th>\n",
       "    </tr>\n",
       "    <tr>\n",
       "      <th>split</th>\n",
       "      <th></th>\n",
       "      <th></th>\n",
       "      <th></th>\n",
       "    </tr>\n",
       "  </thead>\n",
       "  <tbody>\n",
       "    <tr>\n",
       "      <th>test</th>\n",
       "      <td>447</td>\n",
       "      <td>64</td>\n",
       "      <td>511</td>\n",
       "    </tr>\n",
       "    <tr>\n",
       "      <th>train</th>\n",
       "      <td>754</td>\n",
       "      <td>12</td>\n",
       "      <td>766</td>\n",
       "    </tr>\n",
       "    <tr>\n",
       "      <th>val</th>\n",
       "      <td>293</td>\n",
       "      <td>0</td>\n",
       "      <td>293</td>\n",
       "    </tr>\n",
       "    <tr>\n",
       "      <th>All</th>\n",
       "      <td>1494</td>\n",
       "      <td>76</td>\n",
       "      <td>1570</td>\n",
       "    </tr>\n",
       "  </tbody>\n",
       "</table>\n",
       "</div>"
      ],
      "text/plain": [
       "instrument_type  commercial  sam_testbed   All\n",
       "split                                         \n",
       "test                    447           64   511\n",
       "train                   754           12   766\n",
       "val                     293            0   293\n",
       "All                    1494           76  1570"
      ]
     },
     "execution_count": 40,
     "metadata": {},
     "output_type": "execute_result"
    }
   ],
   "source": [
    "pd.crosstab(metadata.split, metadata.instrument_type, margins=True)"
   ]
  },
  {
   "cell_type": "code",
   "execution_count": 39,
   "metadata": {},
   "outputs": [
    {
     "data": {
      "text/html": [
       "<div>\n",
       "<style scoped>\n",
       "    .dataframe tbody tr th:only-of-type {\n",
       "        vertical-align: middle;\n",
       "    }\n",
       "\n",
       "    .dataframe tbody tr th {\n",
       "        vertical-align: top;\n",
       "    }\n",
       "\n",
       "    .dataframe thead th {\n",
       "        text-align: right;\n",
       "    }\n",
       "</style>\n",
       "<table border=\"1\" class=\"dataframe\">\n",
       "  <thead>\n",
       "    <tr style=\"text-align: right;\">\n",
       "      <th>instrument_type</th>\n",
       "      <th>commercial</th>\n",
       "      <th>sam_testbed</th>\n",
       "    </tr>\n",
       "    <tr>\n",
       "      <th>split</th>\n",
       "      <th></th>\n",
       "      <th></th>\n",
       "    </tr>\n",
       "  </thead>\n",
       "  <tbody>\n",
       "    <tr>\n",
       "      <th>test</th>\n",
       "      <td>0.874755</td>\n",
       "      <td>0.125245</td>\n",
       "    </tr>\n",
       "    <tr>\n",
       "      <th>train</th>\n",
       "      <td>0.984334</td>\n",
       "      <td>0.015666</td>\n",
       "    </tr>\n",
       "    <tr>\n",
       "      <th>val</th>\n",
       "      <td>1.000000</td>\n",
       "      <td>0.000000</td>\n",
       "    </tr>\n",
       "  </tbody>\n",
       "</table>\n",
       "</div>"
      ],
      "text/plain": [
       "instrument_type  commercial  sam_testbed\n",
       "split                                   \n",
       "test               0.874755     0.125245\n",
       "train              0.984334     0.015666\n",
       "val                1.000000     0.000000"
      ]
     },
     "execution_count": 39,
     "metadata": {},
     "output_type": "execute_result"
    }
   ],
   "source": [
    "pd.crosstab(metadata.split, metadata.instrument_type, normalize='index')"
   ]
  },
  {
   "cell_type": "markdown",
   "metadata": {},
   "source": [
    "## Exploring Features"
   ]
  },
  {
   "cell_type": "markdown",
   "metadata": {},
   "source": [
    "### Time vs. Temperature"
   ]
  },
  {
   "cell_type": "markdown",
   "metadata": {},
   "source": [
    "- temperature is suppose to be a function of time in the experiments\n",
    "- patterns of ions may vary as a function of both time and temperature\n",
    "- instrument type may contain different ranges of times and temperatures"
   ]
  },
  {
   "cell_type": "code",
   "execution_count": 72,
   "metadata": {},
   "outputs": [],
   "source": [
    "#TODO how to incorporate the fact that testbeds has some non-linear heating profiles...\n",
    "# there may be nuances to how the sample was heated over time that provides additional information."
   ]
  },
  {
   "cell_type": "markdown",
   "metadata": {},
   "source": [
    "Let's visually explore the relationship between `time` and `temperature` for both types of instruments. We will pick at random 5 samples for each and plot them."
   ]
  },
  {
   "cell_type": "code",
   "execution_count": 99,
   "metadata": {},
   "outputs": [],
   "source": [
    "# Randomly select 5 samples from each instrument\n",
    "sample_com = metadata[metadata.instrument_type == 'commercial']['sample_id'].sample(n=5).index\n",
    "sample_sam = metadata[metadata.instrument_type == 'sam_testbed']['sample_id'].sample(n=5).index"
   ]
  },
  {
   "cell_type": "code",
   "execution_count": 106,
   "metadata": {},
   "outputs": [
    {
     "data": {
      "image/png": "[encoded data removed]",
      "text/plain": [
       "<Figure size 1080x216 with 5 Axes>"
      ]
     },
     "metadata": {
      "image/png": {
       "height": 224,
       "width": 1088
      },
      "needs_background": "light"
     },
     "output_type": "display_data"
    },
    {
     "data": {
      "image/png": "[encoded data removed]",
      "text/plain": [
       "<Figure size 1080x216 with 5 Axes>"
      ]
     },
     "metadata": {
      "image/png": {
       "height": 224,
       "width": 1088
      },
      "needs_background": "light"
     },
     "output_type": "display_data"
    }
   ],
   "source": [
    "fig, ax = plt.subplots(1, len(sample_com), \n",
    "                       figsize=(15,3),\n",
    "                       constrained_layout=True, \n",
    "                       sharey=\"all\")\n",
    "fig.supylabel('Temperature')\n",
    "fig.supxlabel('Time')\n",
    "fig.suptitle('Commercial')\n",
    "\n",
    "for n,i in enumerate(sample_com):\n",
    "    # Get the file path\n",
    "    sample_file = metadata.iloc[i]['features_path']\n",
    "    sample_name = metadata.iloc[i]['sample_id']\n",
    "    \n",
    "    # Read in the data\n",
    "    df = pd.read_csv(config.DATA_DIR + sample_file)\n",
    "    plt.subplot(1, 5, n+1)\n",
    "    plt.scatter(df['time'], df['temp'])\n",
    "    plt.title(sample_name)\n",
    "plt.show()\n",
    "    \n",
    "fig, ax = plt.subplots(1, len(sample_sam), \n",
    "                       figsize=(15,3),\n",
    "                       constrained_layout=True, \n",
    "                       sharey=\"all\")\n",
    "fig.supylabel('Temperature')\n",
    "fig.supxlabel('Time')\n",
    "fig.suptitle('SAM testbed')\n",
    "\n",
    "for n,i in enumerate(sample_sam):\n",
    "    # Get the file path\n",
    "    sample_file = metadata.iloc[i]['features_path']\n",
    "    sample_name = metadata.iloc[i]['sample_id']\n",
    "    \n",
    "    # Read in the data\n",
    "    df = pd.read_csv(config.DATA_DIR + sample_file)\n",
    "    plt.subplot(1, 5, n+1)\n",
    "    plt.scatter(df['time'], df['temp'])\n",
    "    plt.title(sample_name)\n",
    "plt.show()\n",
    "    "
   ]
  },
  {
   "cell_type": "code",
   "execution_count": null,
   "metadata": {},
   "outputs": [],
   "source": []
  }
 ],
 "metadata": {
  "interpreter": {
   "hash": "aee8b7b246df8f9039afb4144a1f6fd8d2ca17a180786b69acc140d282b71a49"
  },
  "kernelspec": {
   "display_name": "Python 3.7.1 64-bit",
   "language": "python",
   "name": "python3"
  },
  "language_info": {
   "codemirror_mode": {
    "name": "ipython",
    "version": 3
   },
   "file_extension": ".py",
   "mimetype": "text/x-python",
   "name": "python",
   "nbconvert_exporter": "python",
   "pygments_lexer": "ipython3",
   "version": "3.9.7"
  },
  "orig_nbformat": 4
 },
 "nbformat": 4,
 "nbformat_minor": 2
}
