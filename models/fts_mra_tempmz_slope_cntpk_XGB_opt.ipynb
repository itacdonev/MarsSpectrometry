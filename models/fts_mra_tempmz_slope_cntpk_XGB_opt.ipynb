{
 "cells": [
  {
   "cell_type": "code",
   "execution_count": 1,
   "metadata": {},
   "outputs": [],
   "source": [
    "%reload_ext autoreload\n",
    "%autoreload 2\n",
    "\n",
    "%matplotlib inline\n",
    "%config InlineBackend.figure_format = 'retina'"
   ]
  },
  {
   "cell_type": "code",
   "execution_count": 2,
   "metadata": {},
   "outputs": [
    {
     "name": "stderr",
     "output_type": "stream",
     "text": [
      "/Users/itacdonev/opt/miniconda3/envs/nasamars/lib/python3.9/site-packages/xgboost/compat.py:36: FutureWarning: pandas.Int64Index is deprecated and will be removed from pandas in a future version. Use pandas.Index with the appropriate dtype instead.\n",
      "  from pandas import MultiIndex, Int64Index\n"
     ]
    }
   ],
   "source": [
    "## Environment\n",
    "# Change main system path to be able to run code from src folder\n",
    "import sys\n",
    "p = sys.path[0]\n",
    "# Mac OS\n",
    "if sys.path[0].endswith('/models'):\n",
    "    main_path = p[:-len('/models')]\n",
    "sys.path[0] = main_path\n",
    "\n",
    "import os, gc\n",
    "from termcolor import colored\n",
    "from tqdm import tqdm\n",
    "import pandas as pd\n",
    "import numpy as np\n",
    "import matplotlib.pyplot as plt\n",
    "from sklearn.metrics import log_loss\n",
    "from src import (config, fe, features, feature_selection, \n",
    "                 preprocess, training)\n",
    "from src.fe import CreateFeatures"
   ]
  },
  {
   "cell_type": "code",
   "execution_count": 3,
   "metadata": {},
   "outputs": [
    {
     "name": "stdout",
     "output_type": "stream",
     "text": [
      "Metadata: (1570, 5)\n",
      "Train labels: (766, 11)\n",
      "Train labels: (293, 11)\n",
      "Submission: (804, 11)\n",
      "['basalt', 'carbonate', 'chloride', 'iron_oxide', 'oxalate', 'oxychlorine', 'phyllosilicate', 'silicate', 'sulfate', 'sulfide']\n",
      "Labels w/o SAM : (1047, 11)\n"
     ]
    }
   ],
   "source": [
    "# DATA PREPARATION\n",
    "# ===== LOAD DATA ======\n",
    "metadata = pd.read_csv(config.DATA_DIR + 'metadata.csv')\n",
    "print(f'Metadata: {metadata.shape}')\n",
    "\n",
    "train_labels = pd.read_csv(config.DATA_DIR + 'train_labels.csv')\n",
    "print(f'Train labels: {train_labels.shape}')\n",
    "\n",
    "valid_labels = pd.read_csv(config.DATA_DIR + 'val_labels.csv')\n",
    "print(f'Train labels: {valid_labels.shape}')\n",
    "\n",
    "# Combine train and valid labels\n",
    "trvl_labels = pd.concat([train_labels, valid_labels], axis = 0)\n",
    "\n",
    "submission = pd.read_csv(config.DATA_DIR + 'submission_format.csv')\n",
    "print(f'Submission: {submission.shape}')\n",
    "\n",
    "# ===== FILE PATHS OF SAMPLES =====\n",
    "train_files = metadata[metadata.split == 'train']['features_path'].to_dict()\n",
    "valid_files = metadata[metadata.split == 'val']['features_path'].to_dict()\n",
    "test_files = metadata[metadata.split == 'test']['features_path'].to_dict()\n",
    "# Train & Valid files\n",
    "trva_files = train_files.copy()\n",
    "trva_files.update(valid_files)\n",
    "# All files\n",
    "all_test_files = valid_files.copy()\n",
    "all_test_files.update(test_files)\n",
    "\n",
    "# Define SAM testbed files\n",
    "sam_files = metadata[(metadata.instrument_type == 'sam_testbed') & (metadata.split == 'train')]['features_path']\n",
    "sam_files = sam_files.to_dict()\n",
    "\n",
    "# Get the names of the target columns in a list\n",
    "target_labels_list = [i for i in train_labels.columns if i not in ['sample_id']]\n",
    "print(target_labels_list)\n",
    "\n",
    "# SAM testbed labels\n",
    "sam_labels = train_labels.drop(train_labels.tail(len(sam_files)).index)\n",
    "sam_labels = pd.concat([sam_labels, valid_labels], axis=0)\n",
    "print(f'Labels w/o SAM : {sam_labels.shape}')"
   ]
  },
  {
   "cell_type": "code",
   "execution_count": 4,
   "metadata": {},
   "outputs": [],
   "source": [
    "FTS_NAME = 'fts_mra_tempmz_slope_cntpk'                 # Name of the file with base features for TRAINING\n",
    "COMPUTE_FTS = True                                      # Should the features be recomputed\n",
    "COMPUTE_FTS_SAM = False                                 # Compute SAM test bed\n",
    "MODEL_ALGO = 'XGB_opt'                                  # Name of the classifier\n",
    "MODEL_NAME = FTS_NAME + '_' + MODEL_ALGO                # Name of the model\n",
    "COMBINE_FTS = ['fts_mra_tempmz_slope', 'fts_cntpk_mratt']   # Feature sets to combine for training\n",
    "NEW_FEATURES = 'fts_cntpk_mratt'                           # Name of a data frame with new features to add to model\n",
    "TRAIN_FTS_SFM = 'fts_mra_tempmz_slope'                        # Features selected with SMF() for training.\n",
    "BASE_MODEL = TRAIN_FTS_SFM + '_' + MODEL_ALGO"
   ]
  },
  {
   "cell_type": "markdown",
   "metadata": {},
   "source": [
    "**COMPUTE FEATURES**\n",
    "\n",
    "- Change the `fe._` method depending on the feature that we wish to calculate"
   ]
  },
  {
   "cell_type": "code",
   "execution_count": 8,
   "metadata": {},
   "outputs": [
    {
     "name": "stdout",
     "output_type": "stream",
     "text": [
      "Computing features ... \n",
      "\u001b[34mtrain => (766, 1981)\u001b[0m\n",
      "\u001b[34mtrain & valid => (1059, 1981)\u001b[0m\n",
      "\u001b[34mvalid & test => (804, 1981)\u001b[0m\n"
     ]
    }
   ],
   "source": [
    "# Check if feature is computed and load it or choose to compute it\n",
    "check_file = 0\n",
    "for i in ['_tr', '_trvl', '_vlte']:\n",
    "    check_file += os.path.exists(os.path.join(config.DATA_DIR_OUT, FTS_NAME +\n",
    "                                              str(i) + '.csv'))\n",
    "\n",
    "if (check_file == 3) & (not COMPUTE_FTS):\n",
    "    print('Reading features ... ')\n",
    "    X_tr = pd.read_csv(os.path.join(config.DATA_DIR_OUT, FTS_NAME + '_tr.csv'))\n",
    "    print(X_tr.shape)\n",
    "    X_trvl = pd.read_csv(os.path.join(config.DATA_DIR_OUT, FTS_NAME + '_trvl.csv'))\n",
    "    print(X_trvl.shape)\n",
    "    X_vlte = pd.read_csv(os.path.join(config.DATA_DIR_OUT, FTS_NAME + '_vlte.csv'))\n",
    "    print(X_vlte.shape)\n",
    "    \n",
    "else:\n",
    "    print('Computing features ... ')\n",
    "    # ----- TRAIN -----\n",
    "    fe = CreateFeatures(metadata, train_files, 'tr', FTS_NAME)\n",
    "    X_tr = fe.combine_features(COMBINE_FTS)\n",
    "    print(colored(f'train => {X_tr.shape}', 'blue'))\n",
    "    \n",
    "    # ----- TRAIN & VALID -----\n",
    "    fe = CreateFeatures(metadata, trva_files, 'trvl', FTS_NAME)\n",
    "    X_trvl = fe.combine_features(COMBINE_FTS)\n",
    "    print(colored(f'train & valid => {X_trvl.shape}', 'blue'))\n",
    "    \n",
    "    # ----- VALID & TEST -----\n",
    "    fe = CreateFeatures(metadata, all_test_files, 'vlte', FTS_NAME)\n",
    "    X_vlte = fe.combine_features(COMBINE_FTS)\n",
    "    print(colored(f'valid & test => {X_vlte.shape}', 'blue'))\n",
    "    \n",
    "if COMPUTE_FTS_SAM:\n",
    "    print(f'\\nCreating SAM testbed samples ...')\n",
    "    # Training without SAM testbed\n",
    "    X_tr_sam = X_tr.drop(X_tr.tail(len(sam_files)).index).copy()\n",
    "    X_tr_sam = pd.concat([X_tr_sam, X_trvl.iloc[len(train_files):,:]], axis=0)\n",
    "    print(f'Train shape: {X_tr_sam.shape}')\n",
    "    # Validation data\n",
    "    X_vl_sam = X_tr.tail(len(sam_files)).copy()\n",
    "    print(f'Valid shape: {X_vl_sam.shape}')"
   ]
  },
  {
   "cell_type": "markdown",
   "metadata": {},
   "source": [
    "## MODELS"
   ]
  },
  {
   "cell_type": "markdown",
   "metadata": {},
   "source": [
    "**TRAIN**"
   ]
  },
  {
   "cell_type": "code",
   "execution_count": 9,
   "metadata": {},
   "outputs": [
    {
     "name": "stdout",
     "output_type": "stream",
     "text": [
      "\u001b[34mLoading feature column names\u001b[0m\n",
      "Reading fts_mra_tempmz_slope_XGB_opt_tr_SFM_COLS.txt\n",
      "Adding features from fts_cntpk_mratt\n",
      "\u001b[34mCV training ....\u001b[0m\n",
      "\u001b[33mbasalt: LogLoss=0.18535\u001b[0m \u001b[32m-> -0.00583\u001b[0m\n",
      "\u001b[33mcarbonate: LogLoss=0.12326\u001b[0m \u001b[31m-> 0.01446\u001b[0m\n",
      "\u001b[33mchloride: LogLoss=0.21241\u001b[0m \u001b[31m-> 0.00471\u001b[0m\n",
      "\u001b[33miron_oxide: LogLoss=0.22971\u001b[0m \u001b[31m-> 0.00969\u001b[0m\n",
      "\u001b[33moxalate: LogLoss=0.01442\u001b[0m \u001b[32m-> -0.01156\u001b[0m\n",
      "\u001b[33moxychlorine: LogLoss=0.15448\u001b[0m \u001b[32m-> -0.02339\u001b[0m\n",
      "\u001b[33mphyllosilicate: LogLoss=0.23354\u001b[0m \u001b[32m-> -0.01184\u001b[0m\n",
      "\u001b[33msilicate: LogLoss=0.22178\u001b[0m \u001b[32m-> -0.0114\u001b[0m\n",
      "\u001b[33msulfate: LogLoss=0.20057\u001b[0m \u001b[31m-> 0.01631\u001b[0m\n",
      "\u001b[33msulfide: LogLoss=0.06468\u001b[0m \u001b[32m-> -0.00286\u001b[0m\n",
      "\u001b[34mFull training .....\u001b[0m\n",
      "\u001b[32mbasalt - nfeatures: 428\u001b[0m\n",
      "\u001b[32mcarbonate - nfeatures: 522\u001b[0m\n",
      "\u001b[32mchloride - nfeatures: 442\u001b[0m\n",
      "\u001b[32miron_oxide - nfeatures: 556\u001b[0m\n",
      "\u001b[32moxalate - nfeatures: 403\u001b[0m\n",
      "\u001b[32moxychlorine - nfeatures: 427\u001b[0m\n",
      "\u001b[32mphyllosilicate - nfeatures: 641\u001b[0m\n",
      "\u001b[32msilicate - nfeatures: 1980\u001b[0m\n",
      "\u001b[32msulfate - nfeatures: 486\u001b[0m\n",
      "\u001b[32msulfide - nfeatures: 470\u001b[0m\n",
      "Saving fts_mra_tempmz_slope_cntpk_XGB_opt_tr_COLS_sfm.txt\n",
      "\u001b[33mCV LogLoss: 0.16402\u001b[0m\n",
      "\u001b[32mVAL LogLoss: 0.15832\u001b[0m\n"
     ]
    }
   ],
   "source": [
    "# ===== TRAIN =====\n",
    "split_type = 'tr'\n",
    "\n",
    "# Initialize the feature selection class\n",
    "smf = feature_selection.SelectModelFeatures(\n",
    "    base_sfm_features_name=TRAIN_FTS_SFM,\n",
    "    base_fitted_model_name=TRAIN_FTS_SFM + '_' + MODEL_ALGO,\n",
    "    target_labels_list=target_labels_list,\n",
    "    new_features_file_name=NEW_FEATURES,\n",
    "    fitted_model_name=MODEL_NAME,\n",
    "    fitted_model_algo=MODEL_ALGO,\n",
    "    X_tr=X_tr,\n",
    "    X_vlte=X_vlte,\n",
    "    split_type='tr',\n",
    "    train_labels=train_labels,\n",
    "    valid_files=valid_files,\n",
    "    valid_labels=valid_labels)\n",
    "\n",
    "if TRAIN_FTS_SFM:\n",
    "    # Loads FTS_NAME_tr_SFM_COLS - cols to train with if\n",
    "    # training is done without full column lenght of input data\n",
    "    TRAIN_FTS_DICT = smf.load_features()\n",
    "else: \n",
    "    TRAIN_FTS_DICT = None\n",
    "\n",
    "# Train the model- saves features as MODEL_NAME_tr_COLS.txt'\n",
    "cvloss, submission_model = training.train_tbl(\n",
    "    df_train=X_tr,\n",
    "    df_labels=train_labels,\n",
    "    target_list=target_labels_list,\n",
    "    df_test=X_vlte,\n",
    "    split_type=split_type,\n",
    "    model_algo=MODEL_ALGO,\n",
    "    sub_name=MODEL_NAME + '_' + split_type,\n",
    "    base_model_name=TRAIN_FTS_SFM + '_' + MODEL_ALGO + '_' + split_type + '_sfm',\n",
    "    fts_select_cols=TRAIN_FTS_DICT,\n",
    "    )\n",
    "\n",
    "# Compute validation loss when full model is trained\n",
    "mloss, mloss_avg = training.compute_valid_loss(submission_model,\n",
    "                                               valid_files, valid_labels,\n",
    "                                               target_labels_list,\n",
    "                                               sub_name=MODEL_NAME + '_' + split_type,\n",
    "                                               fts_select_cols=TRAIN_FTS_DICT)\n",
    "print(colored(f'VAL LogLoss: {np.round(mloss_avg, 5)}', 'green'))"
   ]
  },
  {
   "cell_type": "code",
   "execution_count": 25,
   "metadata": {},
   "outputs": [
    {
     "name": "stdout",
     "output_type": "stream",
     "text": [
      "New features from fts_cntpk_mratt_tr.csv\n",
      "Recomputing current model features from fitted model (no fts > 1) fts_mra_tempmz_slope_cntpk_XGB_opt\n",
      "Computing optimal threshold for each label\n",
      "basalt - Computing threshold on fts_mra_tempmz_slope_cntpk_XGB_opt_tr_sfm_basalt.joblib.dat\n",
      "Threshold 0.004\n",
      "carbonate - Computing threshold on fts_mra_tempmz_slope_cntpk_XGB_opt_tr_sfm_carbonate.joblib.dat\n",
      "Threshold 0.0\n",
      "chloride - Computing threshold on fts_mra_tempmz_slope_cntpk_XGB_opt_tr_sfm_chloride.joblib.dat\n",
      "Threshold 0.0\n",
      "iron_oxide - Computing threshold on fts_mra_tempmz_slope_cntpk_XGB_opt_tr_sfm_iron_oxide.joblib.dat\n",
      "Threshold 0.002\n",
      "oxalate - Computing threshold on fts_mra_tempmz_slope_cntpk_XGB_opt_tr_sfm_oxalate.joblib.dat\n",
      "Threshold 0.0\n",
      "oxychlorine - Computing threshold on fts_mra_tempmz_slope_cntpk_XGB_opt_tr_sfm_oxychlorine.joblib.dat\n",
      "Threshold 0.002\n",
      "phyllosilicate - Computing threshold on fts_mra_tempmz_slope_cntpk_XGB_opt_tr_sfm_phyllosilicate.joblib.dat\n",
      "Threshold 0.001\n",
      "silicate - Computing threshold on fts_mra_tempmz_slope_cntpk_XGB_opt_tr_sfm_silicate.joblib.dat\n",
      "Threshold 0.003\n",
      "sulfate - Computing threshold on fts_mra_tempmz_slope_cntpk_XGB_opt_tr_sfm_sulfate.joblib.dat\n",
      "Threshold 0.002\n",
      "sulfide - Computing threshold on fts_mra_tempmz_slope_cntpk_XGB_opt_tr_sfm_sulfide.joblib.dat\n",
      "Threshold 0.027\n",
      "Refinting the model based on the threshold\n"
     ]
    },
    {
     "name": "stderr",
     "output_type": "stream",
     "text": [
      "  0%|          | 0/10 [00:00<?, ?it/s]"
     ]
    },
    {
     "name": "stdout",
     "output_type": "stream",
     "text": [
      "basalt - Computing threshold on fts_mra_tempmz_slope_cntpk_XGB_opt_tr_sfm_basalt.joblib.dat\n"
     ]
    },
    {
     "name": "stderr",
     "output_type": "stream",
     "text": [
      " 10%|█         | 1/10 [00:00<00:03,  2.57it/s]"
     ]
    },
    {
     "name": "stdout",
     "output_type": "stream",
     "text": [
      "carbonate - Computing threshold on fts_mra_tempmz_slope_cntpk_XGB_opt_tr_sfm_carbonate.joblib.dat\n"
     ]
    },
    {
     "name": "stderr",
     "output_type": "stream",
     "text": [
      " 20%|██        | 2/10 [00:01<00:06,  1.17it/s]"
     ]
    },
    {
     "name": "stdout",
     "output_type": "stream",
     "text": [
      "chloride - Computing threshold on fts_mra_tempmz_slope_cntpk_XGB_opt_tr_sfm_chloride.joblib.dat\n"
     ]
    },
    {
     "name": "stderr",
     "output_type": "stream",
     "text": [
      " 30%|███       | 3/10 [00:02<00:06,  1.10it/s]"
     ]
    },
    {
     "name": "stdout",
     "output_type": "stream",
     "text": [
      "iron_oxide - Computing threshold on fts_mra_tempmz_slope_cntpk_XGB_opt_tr_sfm_iron_oxide.joblib.dat\n"
     ]
    },
    {
     "name": "stderr",
     "output_type": "stream",
     "text": [
      " 40%|████      | 4/10 [00:03<00:04,  1.28it/s]"
     ]
    },
    {
     "name": "stdout",
     "output_type": "stream",
     "text": [
      "oxalate - Computing threshold on fts_mra_tempmz_slope_cntpk_XGB_opt_tr_sfm_oxalate.joblib.dat\n"
     ]
    },
    {
     "name": "stderr",
     "output_type": "stream",
     "text": [
      " 50%|█████     | 5/10 [00:03<00:03,  1.61it/s]"
     ]
    },
    {
     "name": "stdout",
     "output_type": "stream",
     "text": [
      "oxychlorine - Computing threshold on fts_mra_tempmz_slope_cntpk_XGB_opt_tr_sfm_oxychlorine.joblib.dat\n"
     ]
    },
    {
     "name": "stderr",
     "output_type": "stream",
     "text": [
      " 60%|██████    | 6/10 [00:03<00:02,  1.79it/s]"
     ]
    },
    {
     "name": "stdout",
     "output_type": "stream",
     "text": [
      "phyllosilicate - Computing threshold on fts_mra_tempmz_slope_cntpk_XGB_opt_tr_sfm_phyllosilicate.joblib.dat\n"
     ]
    },
    {
     "name": "stderr",
     "output_type": "stream",
     "text": [
      " 70%|███████   | 7/10 [00:04<00:01,  1.53it/s]"
     ]
    },
    {
     "name": "stdout",
     "output_type": "stream",
     "text": [
      "silicate - Computing threshold on fts_mra_tempmz_slope_cntpk_XGB_opt_tr_sfm_silicate.joblib.dat\n"
     ]
    },
    {
     "name": "stderr",
     "output_type": "stream",
     "text": [
      " 80%|████████  | 8/10 [00:05<00:01,  1.69it/s]"
     ]
    },
    {
     "name": "stdout",
     "output_type": "stream",
     "text": [
      "sulfate - Computing threshold on fts_mra_tempmz_slope_cntpk_XGB_opt_tr_sfm_sulfate.joblib.dat\n"
     ]
    },
    {
     "name": "stderr",
     "output_type": "stream",
     "text": [
      "100%|██████████| 10/10 [00:05<00:00,  1.72it/s]"
     ]
    },
    {
     "name": "stdout",
     "output_type": "stream",
     "text": [
      "sulfide - Computing threshold on fts_mra_tempmz_slope_cntpk_XGB_opt_tr_sfm_sulfide.joblib.dat\n",
      "Saving fts_mra_tempmz_slope_cntpk_XGB_opt_tr_SFM_COLS.txt\n",
      "basalt: 78\n",
      "carbonate: 522\n",
      "chloride: 442\n",
      "iron_oxide: 158\n",
      "oxalate: 403\n",
      "oxychlorine: 131\n",
      "phyllosilicate: 227\n",
      "silicate: 105\n",
      "sulfate: 141\n",
      "sulfide: 5\n"
     ]
    },
    {
     "name": "stderr",
     "output_type": "stream",
     "text": [
      "\n"
     ]
    }
   ],
   "source": [
    "# !!!! RUN ONLY ONCE !!!! - overwrites the SFM_COLS for the fitted model\n",
    "# Compute new features selected from the fitted model\n",
    "# If just to read the features use compute_features=False\n",
    "# Saves features as Loads FTS_NAME_tr_SFM_COLS\n",
    "SFM_COLUMNS = smf.select_features(cv_new_model=cvloss,\n",
    "                                  fitted_sfm=True)\n",
    "smf.show_no_fts_label(SFM_COLUMNS)\n",
    "\n",
    "# Retrain the model with new final features\n"
   ]
  },
  {
   "cell_type": "code",
   "execution_count": 26,
   "metadata": {},
   "outputs": [
    {
     "name": "stdout",
     "output_type": "stream",
     "text": [
      "\u001b[34mLoading feature column names\u001b[0m\n",
      "Reading fts_mra_tempmz_slope_cntpk_XGB_opt_tr_SFM_COLS.txt\n",
      "\u001b[34mCV training ....\u001b[0m\n",
      "\u001b[33mbasalt\u001b[0m\n",
      "\u001b[33mLogLoss 0.22858148855602609\u001b[0m\n",
      "\u001b[33mcarbonate\u001b[0m\n",
      "\u001b[33mLogLoss 0.146696290363218\u001b[0m\n",
      "\u001b[33mchloride\u001b[0m\n",
      "\u001b[33mLogLoss 0.21635095820260428\u001b[0m\n",
      "\u001b[33miron_oxide\u001b[0m\n",
      "\u001b[33mLogLoss 0.27168072229264195\u001b[0m\n",
      "\u001b[33moxalate\u001b[0m\n",
      "\u001b[33mLogLoss 0.03947637817996841\u001b[0m\n",
      "\u001b[33moxychlorine\u001b[0m\n",
      "\u001b[33mLogLoss 0.23361781830990927\u001b[0m\n",
      "\u001b[33mphyllosilicate\u001b[0m\n",
      "\u001b[33mLogLoss 0.2798630786013598\u001b[0m\n",
      "\u001b[33msilicate\u001b[0m\n",
      "\u001b[33mLogLoss 0.21799369451734965\u001b[0m\n",
      "\u001b[33msulfate\u001b[0m\n",
      "\u001b[33mLogLoss 0.2635013501540425\u001b[0m\n",
      "\u001b[33msulfide\u001b[0m\n",
      "\u001b[33mLogLoss 0.20148641343924148\u001b[0m\n",
      "\u001b[34mFull training .....\u001b[0m\n",
      "\u001b[32mbasalt - nfeatures: 78\u001b[0m\n",
      "\u001b[32mcarbonate - nfeatures: 522\u001b[0m\n",
      "\u001b[32mchloride - nfeatures: 442\u001b[0m\n",
      "\u001b[32miron_oxide - nfeatures: 158\u001b[0m\n",
      "\u001b[32moxalate - nfeatures: 403\u001b[0m\n",
      "\u001b[32moxychlorine - nfeatures: 131\u001b[0m\n",
      "\u001b[32mphyllosilicate - nfeatures: 227\u001b[0m\n",
      "\u001b[32msilicate - nfeatures: 105\u001b[0m\n",
      "\u001b[32msulfate - nfeatures: 141\u001b[0m\n",
      "\u001b[32msulfide - nfeatures: 5\u001b[0m\n",
      "Saving fts_mra_tempmz_slope_cntpk_XGB_opt_tr_COLS_sfm.txt\n",
      "\u001b[33mCV LogLoss: 0.20992\u001b[0m\n",
      "\u001b[32mVAL LogLoss: 0.19902\u001b[0m\n"
     ]
    }
   ],
   "source": [
    "# Retrain the model with newly selected features\n",
    "# !!! Note that this will overwrite the initial SFM\n",
    "TRAIN_FTS_SFM = 'fts_mra_tempmz_slope_cntpk'      # Features selected with SMF() for training.\n",
    "NEW_FEATURES = None\n",
    "\n",
    "# Initialize the feature selection class\n",
    "# Need to reinitialize since we are changing TRAIN_FTS_SFM from above\n",
    "smf = feature_selection.SelectModelFeatures(\n",
    "    base_sfm_features_name=TRAIN_FTS_SFM,\n",
    "    base_fitted_model_name=TRAIN_FTS_SFM + '_' + MODEL_ALGO,\n",
    "    target_labels_list=target_labels_list,\n",
    "    new_features_file_name=NEW_FEATURES,\n",
    "    fitted_model_name=MODEL_NAME,\n",
    "    fitted_model_algo=MODEL_ALGO,\n",
    "    X_tr=X_tr,\n",
    "    X_vlte=X_vlte,\n",
    "    split_type='tr',\n",
    "    train_labels=train_labels,\n",
    "    valid_files=valid_files,\n",
    "    valid_labels=valid_labels)\n",
    "\n",
    "# ===== TRAIN =====\n",
    "split_type = 'tr'\n",
    "\n",
    "if TRAIN_FTS_SFM:\n",
    "    # Loads FTS_NAME_tr_SFM_COLS - cols to train with if\n",
    "    # training is done without full column lenght of input data\n",
    "    TRAIN_FTS_DICT = smf.load_features()\n",
    "else: \n",
    "    TRAIN_FTS_DICT = None\n",
    "    \n",
    "# Train the model- saves features as MODEL_NAME_tr_COLS.txt'\n",
    "cvloss, submission_model = training.train_tbl(\n",
    "    df_train=X_tr,\n",
    "    df_labels=train_labels,\n",
    "    target_list=target_labels_list,\n",
    "    df_test=X_vlte,\n",
    "    split_type=split_type,\n",
    "    model_algo=MODEL_ALGO,\n",
    "    sub_name=MODEL_NAME + '_' + split_type,\n",
    "    fts_select_cols=TRAIN_FTS_DICT,\n",
    "    )\n",
    "\n",
    "# Compute validation loss when full model is trained\n",
    "mloss, mloss_avg = training.compute_valid_loss(submission_model,\n",
    "                                               valid_files, valid_labels,\n",
    "                                               target_labels_list,\n",
    "                                               sub_name=MODEL_NAME + '_' + split_type,\n",
    "                                               fts_select_cols=TRAIN_FTS_DICT)\n",
    "print(colored(f'VAL LogLoss: {np.round(mloss_avg, 5)}', 'green'))"
   ]
  },
  {
   "cell_type": "markdown",
   "metadata": {},
   "source": [
    "**TRAIN & VALID**"
   ]
  },
  {
   "cell_type": "markdown",
   "metadata": {},
   "source": [
    "**SAM TRAINING**"
   ]
  },
  {
   "cell_type": "code",
   "execution_count": null,
   "metadata": {},
   "outputs": [],
   "source": []
  }
 ],
 "metadata": {
  "interpreter": {
   "hash": "cfa1bb730ddeebc089519bcd4ec0e31841e14f65d7c169a2b301ba6e4e1462a0"
  },
  "kernelspec": {
   "display_name": "Python 3.9.7 ('nasamars')",
   "language": "python",
   "name": "python3"
  },
  "language_info": {
   "codemirror_mode": {
    "name": "ipython",
    "version": 3
   },
   "file_extension": ".py",
   "mimetype": "text/x-python",
   "name": "python",
   "nbconvert_exporter": "python",
   "pygments_lexer": "ipython3",
   "version": "3.9.7"
  },
  "orig_nbformat": 4
 },
 "nbformat": 4,
 "nbformat_minor": 2
}
