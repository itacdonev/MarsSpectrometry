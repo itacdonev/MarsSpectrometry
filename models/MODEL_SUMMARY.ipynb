{
 "cells": [
  {
   "cell_type": "code",
   "execution_count": 1,
   "metadata": {},
   "outputs": [],
   "source": [
    "%reload_ext autoreload\n",
    "%autoreload 2\n",
    "\n",
    "%matplotlib inline\n",
    "%config InlineBackend.figure_format = 'retina'"
   ]
  },
  {
   "cell_type": "code",
   "execution_count": 2,
   "metadata": {},
   "outputs": [],
   "source": [
    "## Environment\n",
    "# Change main system path to be able to run code from src folder\n",
    "import sys\n",
    "p = sys.path[0]\n",
    "# Mac OS\n",
    "if sys.path[0].endswith('/models'):\n",
    "    main_path = p[:-len('/models')]\n",
    "sys.path[0] = main_path\n",
    "\n",
    "import os, gc\n",
    "from termcolor import colored\n",
    "import pandas as pd\n",
    "from src import config"
   ]
  },
  {
   "cell_type": "code",
   "execution_count": 3,
   "metadata": {},
   "outputs": [],
   "source": [
    "include_val_loss = False\n",
    "include_sam = False"
   ]
  },
  {
   "cell_type": "code",
   "execution_count": 4,
   "metadata": {},
   "outputs": [
    {
     "name": "stdout",
     "output_type": "stream",
     "text": [
      "4\n"
     ]
    }
   ],
   "source": [
    "\n",
    "if include_val_loss:\n",
    "    cvloss_files = [each for each in os.listdir(config.MODELS_DIR) if (each.endswith('_cvloss.csv') | \n",
    "                                                                    each.endswith('_Vloss.csv'))]\n",
    "else:\n",
    "    cvloss_files = [each for each in os.listdir(config.MODELS_DIR) if (each.endswith('_cvloss.csv'))]\n",
    "    \n",
    "print(len(cvloss_files))"
   ]
  },
  {
   "cell_type": "code",
   "execution_count": 5,
   "metadata": {},
   "outputs": [],
   "source": [
    "model_summary = pd.DataFrame()\n",
    "for i in cvloss_files:\n",
    "    df = pd.read_csv(os.path.join(config.MODELS_DIR, i), index_col='target')\n",
    "    model_summary = pd.concat([model_summary, df], axis=1)\n",
    "\n",
    "target_labels_list = model_summary.index.tolist()"
   ]
  },
  {
   "cell_type": "code",
   "execution_count": 6,
   "metadata": {},
   "outputs": [
    {
     "data": {
      "text/html": [
       "<style type=\"text/css\">\n",
       "#T_fb8f8_row0_col2, #T_fb8f8_row1_col0, #T_fb8f8_row2_col3, #T_fb8f8_row3_col2, #T_fb8f8_row4_col1, #T_fb8f8_row5_col2, #T_fb8f8_row6_col0, #T_fb8f8_row7_col0, #T_fb8f8_row7_col3, #T_fb8f8_row8_col2, #T_fb8f8_row9_col0 {\n",
       "  color: darkblue;\n",
       "  background-color: lightblue;\n",
       "}\n",
       "</style>\n",
       "<table id=\"T_fb8f8\">\n",
       "  <thead>\n",
       "    <tr>\n",
       "      <th class=\"blank level0\" >&nbsp;</th>\n",
       "      <th id=\"T_fb8f8_level0_col0\" class=\"col_heading level0 col0\" >fts_mra_tempmz_XGB_opt_tr_sfm</th>\n",
       "      <th id=\"T_fb8f8_level0_col1\" class=\"col_heading level0 col1\" >fts_mra_tempmz_LR_reg_tr</th>\n",
       "      <th id=\"T_fb8f8_level0_col2\" class=\"col_heading level0 col2\" >fts_mra_tempmz_slope_XGB_opt_tr_sfm</th>\n",
       "      <th id=\"T_fb8f8_level0_col3\" class=\"col_heading level0 col3\" >fts_mra_tempmz_XGB_opt_tr</th>\n",
       "    </tr>\n",
       "    <tr>\n",
       "      <th class=\"index_name level0\" >target</th>\n",
       "      <th class=\"blank col0\" >&nbsp;</th>\n",
       "      <th class=\"blank col1\" >&nbsp;</th>\n",
       "      <th class=\"blank col2\" >&nbsp;</th>\n",
       "      <th class=\"blank col3\" >&nbsp;</th>\n",
       "    </tr>\n",
       "  </thead>\n",
       "  <tbody>\n",
       "    <tr>\n",
       "      <th id=\"T_fb8f8_level0_row0\" class=\"row_heading level0 row0\" >basalt</th>\n",
       "      <td id=\"T_fb8f8_row0_col0\" class=\"data row0 col0\" >0.203793</td>\n",
       "      <td id=\"T_fb8f8_row0_col1\" class=\"data row0 col1\" >0.276783</td>\n",
       "      <td id=\"T_fb8f8_row0_col2\" class=\"data row0 col2\" >0.191178</td>\n",
       "      <td id=\"T_fb8f8_row0_col3\" class=\"data row0 col3\" >0.196651</td>\n",
       "    </tr>\n",
       "    <tr>\n",
       "      <th id=\"T_fb8f8_level0_row1\" class=\"row_heading level0 row1\" >carbonate</th>\n",
       "      <td id=\"T_fb8f8_row1_col0\" class=\"data row1 col0\" >0.108804</td>\n",
       "      <td id=\"T_fb8f8_row1_col1\" class=\"data row1 col1\" >0.261255</td>\n",
       "      <td id=\"T_fb8f8_row1_col2\" class=\"data row1 col2\" >0.109929</td>\n",
       "      <td id=\"T_fb8f8_row1_col3\" class=\"data row1 col3\" >0.121020</td>\n",
       "    </tr>\n",
       "    <tr>\n",
       "      <th id=\"T_fb8f8_level0_row2\" class=\"row_heading level0 row2\" >chloride</th>\n",
       "      <td id=\"T_fb8f8_row2_col0\" class=\"data row2 col0\" >0.209937</td>\n",
       "      <td id=\"T_fb8f8_row2_col1\" class=\"data row2 col1\" >0.284298</td>\n",
       "      <td id=\"T_fb8f8_row2_col2\" class=\"data row2 col2\" >0.207700</td>\n",
       "      <td id=\"T_fb8f8_row2_col3\" class=\"data row2 col3\" >0.204338</td>\n",
       "    </tr>\n",
       "    <tr>\n",
       "      <th id=\"T_fb8f8_level0_row3\" class=\"row_heading level0 row3\" >iron_oxide</th>\n",
       "      <td id=\"T_fb8f8_row3_col0\" class=\"data row3 col0\" >0.224210</td>\n",
       "      <td id=\"T_fb8f8_row3_col1\" class=\"data row3 col1\" >0.382470</td>\n",
       "      <td id=\"T_fb8f8_row3_col2\" class=\"data row3 col2\" >0.220018</td>\n",
       "      <td id=\"T_fb8f8_row3_col3\" class=\"data row3 col3\" >0.226116</td>\n",
       "    </tr>\n",
       "    <tr>\n",
       "      <th id=\"T_fb8f8_level0_row4\" class=\"row_heading level0 row4\" >oxalate</th>\n",
       "      <td id=\"T_fb8f8_row4_col0\" class=\"data row4 col0\" >0.025980</td>\n",
       "      <td id=\"T_fb8f8_row4_col1\" class=\"data row4 col1\" >0.004059</td>\n",
       "      <td id=\"T_fb8f8_row4_col2\" class=\"data row4 col2\" >0.025988</td>\n",
       "      <td id=\"T_fb8f8_row4_col3\" class=\"data row4 col3\" >0.029273</td>\n",
       "    </tr>\n",
       "    <tr>\n",
       "      <th id=\"T_fb8f8_level0_row5\" class=\"row_heading level0 row5\" >oxychlorine</th>\n",
       "      <td id=\"T_fb8f8_row5_col0\" class=\"data row5 col0\" >0.180170</td>\n",
       "      <td id=\"T_fb8f8_row5_col1\" class=\"data row5 col1\" >0.299150</td>\n",
       "      <td id=\"T_fb8f8_row5_col2\" class=\"data row5 col2\" >0.177872</td>\n",
       "      <td id=\"T_fb8f8_row5_col3\" class=\"data row5 col3\" >0.194202</td>\n",
       "    </tr>\n",
       "    <tr>\n",
       "      <th id=\"T_fb8f8_level0_row6\" class=\"row_heading level0 row6\" >phyllosilicate</th>\n",
       "      <td id=\"T_fb8f8_row6_col0\" class=\"data row6 col0\" >0.245376</td>\n",
       "      <td id=\"T_fb8f8_row6_col1\" class=\"data row6 col1\" >0.407476</td>\n",
       "      <td id=\"T_fb8f8_row6_col2\" class=\"data row6 col2\" >0.246543</td>\n",
       "      <td id=\"T_fb8f8_row6_col3\" class=\"data row6 col3\" >0.259516</td>\n",
       "    </tr>\n",
       "    <tr>\n",
       "      <th id=\"T_fb8f8_level0_row7\" class=\"row_heading level0 row7\" >silicate</th>\n",
       "      <td id=\"T_fb8f8_row7_col0\" class=\"data row7 col0\" >0.233179</td>\n",
       "      <td id=\"T_fb8f8_row7_col1\" class=\"data row7 col1\" >0.351685</td>\n",
       "      <td id=\"T_fb8f8_row7_col2\" class=\"data row7 col2\" >0.233784</td>\n",
       "      <td id=\"T_fb8f8_row7_col3\" class=\"data row7 col3\" >0.233179</td>\n",
       "    </tr>\n",
       "    <tr>\n",
       "      <th id=\"T_fb8f8_level0_row8\" class=\"row_heading level0 row8\" >sulfate</th>\n",
       "      <td id=\"T_fb8f8_row8_col0\" class=\"data row8 col0\" >0.190160</td>\n",
       "      <td id=\"T_fb8f8_row8_col1\" class=\"data row8 col1\" >0.344719</td>\n",
       "      <td id=\"T_fb8f8_row8_col2\" class=\"data row8 col2\" >0.184260</td>\n",
       "      <td id=\"T_fb8f8_row8_col3\" class=\"data row8 col3\" >0.203174</td>\n",
       "    </tr>\n",
       "    <tr>\n",
       "      <th id=\"T_fb8f8_level0_row9\" class=\"row_heading level0 row9\" >sulfide</th>\n",
       "      <td id=\"T_fb8f8_row9_col0\" class=\"data row9 col0\" >0.067537</td>\n",
       "      <td id=\"T_fb8f8_row9_col1\" class=\"data row9 col1\" >0.147136</td>\n",
       "      <td id=\"T_fb8f8_row9_col2\" class=\"data row9 col2\" >0.067739</td>\n",
       "      <td id=\"T_fb8f8_row9_col3\" class=\"data row9 col3\" >0.078807</td>\n",
       "    </tr>\n",
       "  </tbody>\n",
       "</table>\n"
      ],
      "text/plain": [
       "<pandas.io.formats.style.Styler at 0x7f8133da9e20>"
      ]
     },
     "execution_count": 6,
     "metadata": {},
     "output_type": "execute_result"
    }
   ],
   "source": [
    "model_summary.style.highlight_min(axis=1,\n",
    "                                  props='color:darkblue;\\\n",
    "                                         background-color:lightblue;')"
   ]
  },
  {
   "cell_type": "code",
   "execution_count": 7,
   "metadata": {},
   "outputs": [
    {
     "data": {
      "text/html": [
       "<style type=\"text/css\">\n",
       "#T_ac0eb_row0_col0, #T_ac0eb_row0_col3, #T_ac0eb_row0_col5, #T_ac0eb_row0_col8, #T_ac0eb_row1_col1, #T_ac0eb_row1_col6, #T_ac0eb_row1_col7, #T_ac0eb_row1_col9, #T_ac0eb_row2_col2, #T_ac0eb_row2_col7, #T_ac0eb_row3_col4 {\n",
       "  color: darkblue;\n",
       "  background-color: lightblue;\n",
       "}\n",
       "#T_ac0eb_row0_col10 {\n",
       "  color: white;\n",
       "  background-color: red;\n",
       "}\n",
       "</style>\n",
       "<table id=\"T_ac0eb\">\n",
       "  <thead>\n",
       "    <tr>\n",
       "      <th class=\"index_name level0\" >target</th>\n",
       "      <th id=\"T_ac0eb_level0_col0\" class=\"col_heading level0 col0\" >basalt</th>\n",
       "      <th id=\"T_ac0eb_level0_col1\" class=\"col_heading level0 col1\" >carbonate</th>\n",
       "      <th id=\"T_ac0eb_level0_col2\" class=\"col_heading level0 col2\" >chloride</th>\n",
       "      <th id=\"T_ac0eb_level0_col3\" class=\"col_heading level0 col3\" >iron_oxide</th>\n",
       "      <th id=\"T_ac0eb_level0_col4\" class=\"col_heading level0 col4\" >oxalate</th>\n",
       "      <th id=\"T_ac0eb_level0_col5\" class=\"col_heading level0 col5\" >oxychlorine</th>\n",
       "      <th id=\"T_ac0eb_level0_col6\" class=\"col_heading level0 col6\" >phyllosilicate</th>\n",
       "      <th id=\"T_ac0eb_level0_col7\" class=\"col_heading level0 col7\" >silicate</th>\n",
       "      <th id=\"T_ac0eb_level0_col8\" class=\"col_heading level0 col8\" >sulfate</th>\n",
       "      <th id=\"T_ac0eb_level0_col9\" class=\"col_heading level0 col9\" >sulfide</th>\n",
       "      <th id=\"T_ac0eb_level0_col10\" class=\"col_heading level0 col10\" >overall</th>\n",
       "    </tr>\n",
       "  </thead>\n",
       "  <tbody>\n",
       "    <tr>\n",
       "      <th id=\"T_ac0eb_level0_row0\" class=\"row_heading level0 row0\" >fts_mra_tempmz_slope_XGB_opt_tr_sfm</th>\n",
       "      <td id=\"T_ac0eb_row0_col0\" class=\"data row0 col0\" >0.191178</td>\n",
       "      <td id=\"T_ac0eb_row0_col1\" class=\"data row0 col1\" >0.109929</td>\n",
       "      <td id=\"T_ac0eb_row0_col2\" class=\"data row0 col2\" >0.207700</td>\n",
       "      <td id=\"T_ac0eb_row0_col3\" class=\"data row0 col3\" >0.220018</td>\n",
       "      <td id=\"T_ac0eb_row0_col4\" class=\"data row0 col4\" >0.025988</td>\n",
       "      <td id=\"T_ac0eb_row0_col5\" class=\"data row0 col5\" >0.177872</td>\n",
       "      <td id=\"T_ac0eb_row0_col6\" class=\"data row0 col6\" >0.246543</td>\n",
       "      <td id=\"T_ac0eb_row0_col7\" class=\"data row0 col7\" >0.233784</td>\n",
       "      <td id=\"T_ac0eb_row0_col8\" class=\"data row0 col8\" >0.184260</td>\n",
       "      <td id=\"T_ac0eb_row0_col9\" class=\"data row0 col9\" >0.067739</td>\n",
       "      <td id=\"T_ac0eb_row0_col10\" class=\"data row0 col10\" >0.166501</td>\n",
       "    </tr>\n",
       "    <tr>\n",
       "      <th id=\"T_ac0eb_level0_row1\" class=\"row_heading level0 row1\" >fts_mra_tempmz_XGB_opt_tr_sfm</th>\n",
       "      <td id=\"T_ac0eb_row1_col0\" class=\"data row1 col0\" >0.203793</td>\n",
       "      <td id=\"T_ac0eb_row1_col1\" class=\"data row1 col1\" >0.108804</td>\n",
       "      <td id=\"T_ac0eb_row1_col2\" class=\"data row1 col2\" >0.209937</td>\n",
       "      <td id=\"T_ac0eb_row1_col3\" class=\"data row1 col3\" >0.224210</td>\n",
       "      <td id=\"T_ac0eb_row1_col4\" class=\"data row1 col4\" >0.025980</td>\n",
       "      <td id=\"T_ac0eb_row1_col5\" class=\"data row1 col5\" >0.180170</td>\n",
       "      <td id=\"T_ac0eb_row1_col6\" class=\"data row1 col6\" >0.245376</td>\n",
       "      <td id=\"T_ac0eb_row1_col7\" class=\"data row1 col7\" >0.233179</td>\n",
       "      <td id=\"T_ac0eb_row1_col8\" class=\"data row1 col8\" >0.190160</td>\n",
       "      <td id=\"T_ac0eb_row1_col9\" class=\"data row1 col9\" >0.067537</td>\n",
       "      <td id=\"T_ac0eb_row1_col10\" class=\"data row1 col10\" >0.168915</td>\n",
       "    </tr>\n",
       "    <tr>\n",
       "      <th id=\"T_ac0eb_level0_row2\" class=\"row_heading level0 row2\" >fts_mra_tempmz_XGB_opt_tr</th>\n",
       "      <td id=\"T_ac0eb_row2_col0\" class=\"data row2 col0\" >0.196651</td>\n",
       "      <td id=\"T_ac0eb_row2_col1\" class=\"data row2 col1\" >0.121020</td>\n",
       "      <td id=\"T_ac0eb_row2_col2\" class=\"data row2 col2\" >0.204338</td>\n",
       "      <td id=\"T_ac0eb_row2_col3\" class=\"data row2 col3\" >0.226116</td>\n",
       "      <td id=\"T_ac0eb_row2_col4\" class=\"data row2 col4\" >0.029273</td>\n",
       "      <td id=\"T_ac0eb_row2_col5\" class=\"data row2 col5\" >0.194202</td>\n",
       "      <td id=\"T_ac0eb_row2_col6\" class=\"data row2 col6\" >0.259516</td>\n",
       "      <td id=\"T_ac0eb_row2_col7\" class=\"data row2 col7\" >0.233179</td>\n",
       "      <td id=\"T_ac0eb_row2_col8\" class=\"data row2 col8\" >0.203174</td>\n",
       "      <td id=\"T_ac0eb_row2_col9\" class=\"data row2 col9\" >0.078807</td>\n",
       "      <td id=\"T_ac0eb_row2_col10\" class=\"data row2 col10\" >0.174628</td>\n",
       "    </tr>\n",
       "    <tr>\n",
       "      <th id=\"T_ac0eb_level0_row3\" class=\"row_heading level0 row3\" >fts_mra_tempmz_LR_reg_tr</th>\n",
       "      <td id=\"T_ac0eb_row3_col0\" class=\"data row3 col0\" >0.276783</td>\n",
       "      <td id=\"T_ac0eb_row3_col1\" class=\"data row3 col1\" >0.261255</td>\n",
       "      <td id=\"T_ac0eb_row3_col2\" class=\"data row3 col2\" >0.284298</td>\n",
       "      <td id=\"T_ac0eb_row3_col3\" class=\"data row3 col3\" >0.382470</td>\n",
       "      <td id=\"T_ac0eb_row3_col4\" class=\"data row3 col4\" >0.004059</td>\n",
       "      <td id=\"T_ac0eb_row3_col5\" class=\"data row3 col5\" >0.299150</td>\n",
       "      <td id=\"T_ac0eb_row3_col6\" class=\"data row3 col6\" >0.407476</td>\n",
       "      <td id=\"T_ac0eb_row3_col7\" class=\"data row3 col7\" >0.351685</td>\n",
       "      <td id=\"T_ac0eb_row3_col8\" class=\"data row3 col8\" >0.344719</td>\n",
       "      <td id=\"T_ac0eb_row3_col9\" class=\"data row3 col9\" >0.147136</td>\n",
       "      <td id=\"T_ac0eb_row3_col10\" class=\"data row3 col10\" >0.275903</td>\n",
       "    </tr>\n",
       "  </tbody>\n",
       "</table>\n"
      ],
      "text/plain": [
       "<pandas.io.formats.style.Styler at 0x7f8134b49b80>"
      ]
     },
     "execution_count": 7,
     "metadata": {},
     "output_type": "execute_result"
    }
   ],
   "source": [
    "model_sum = model_summary.T.copy()\n",
    "model_sum['overall'] = model_sum.mean(axis=1)\n",
    "if not include_sam:\n",
    "    model_sum = model_sum[model_sum.index.isin([i for i in model_sum.index if not i.endswith('_sam')])]\n",
    "model_sum.sort_values(by='overall')\\\n",
    "             .style.highlight_min(axis=0, \n",
    "                                  props='color:darkblue; background-color:lightblue;',\n",
    "                                  subset=target_labels_list)\\\n",
    "                    .highlight_min(axis=0, \n",
    "                                   props='color:white; background-color:red;',\n",
    "                                   subset=['overall'])"
   ]
  },
  {
   "cell_type": "code",
   "execution_count": null,
   "metadata": {},
   "outputs": [],
   "source": [
    "dt = model_sum[~model_sum.index.isin([i for i in model_sum.index if i.endswith('_trvl')])].sort_index()\n",
    "dt.style.highlight_min(axis=0, \n",
    "                        props='color:darkblue; background-color:lightblue;',\n",
    "                        subset=target_labels_list)\\\n",
    "        .highlight_min(axis=0, \n",
    "                        props='color:white; background-color:red;',\n",
    "                        subset=['overall'])"
   ]
  },
  {
   "cell_type": "code",
   "execution_count": null,
   "metadata": {},
   "outputs": [],
   "source": [
    "FTS_NAME = 'fts_mra_tempmz'\n",
    "# Get all the models with the above feature(s)\n",
    "MODELS = [i for i in model_sum.index if (i.startswith(FTS_NAME) & \n",
    "                                         (len(i) < (len(FTS_NAME)+14)))]\n",
    "# Get the selected models from model_sum\n",
    "model_sum[model_sum.index.isin(MODELS)].sort_values(by='overall')\\\n",
    "             .style.highlight_min(axis=0, \n",
    "                                  props='color:darkblue; background-color:lightblue;',\n",
    "                                  subset=target_labels_list)\\\n",
    "                    .highlight_min(axis=0, \n",
    "                                   props='color:white; background-color:red;',\n",
    "                                   subset=['overall'])"
   ]
  },
  {
   "cell_type": "code",
   "execution_count": null,
   "metadata": {},
   "outputs": [],
   "source": [
    "FTS_NAME = 'fts_mra_tempmz_cntpk_mratt'\n",
    "# Get all the models with the above feature(s)\n",
    "MODELS = [i for i in model_sum.index if (i.startswith(FTS_NAME) & \n",
    "                                         (len(i) < (len(FTS_NAME)+14)))]\n",
    "# Get the selected models from model_sum\n",
    "model_sum[model_sum.index.isin(MODELS)].sort_values(by='overall')\\\n",
    "             .style.highlight_min(axis=0, \n",
    "                                  props='color:darkblue; background-color:lightblue;',\n",
    "                                  subset=target_labels_list)\\\n",
    "                    .highlight_min(axis=0, \n",
    "                                   props='color:white; background-color:red;',\n",
    "                                   subset=['overall'])"
   ]
  },
  {
   "cell_type": "code",
   "execution_count": null,
   "metadata": {},
   "outputs": [],
   "source": []
  }
 ],
 "metadata": {
  "interpreter": {
   "hash": "cfa1bb730ddeebc089519bcd4ec0e31841e14f65d7c169a2b301ba6e4e1462a0"
  },
  "kernelspec": {
   "display_name": "Python 3.9.7 ('nasamars')",
   "language": "python",
   "name": "python3"
  },
  "language_info": {
   "codemirror_mode": {
    "name": "ipython",
    "version": 3
   },
   "file_extension": ".py",
   "mimetype": "text/x-python",
   "name": "python",
   "nbconvert_exporter": "python",
   "pygments_lexer": "ipython3",
   "version": "3.9.7"
  },
  "orig_nbformat": 4
 },
 "nbformat": 4,
 "nbformat_minor": 2
}
