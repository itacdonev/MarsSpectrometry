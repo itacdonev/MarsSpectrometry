{
 "cells": [
  {
   "cell_type": "code",
   "execution_count": 1,
   "metadata": {},
   "outputs": [],
   "source": [
    "%reload_ext autoreload\n",
    "%autoreload 2\n",
    "\n",
    "%matplotlib inline\n",
    "%config InlineBackend.figure_format = 'retina'"
   ]
  },
  {
   "cell_type": "code",
   "execution_count": 2,
   "metadata": {},
   "outputs": [
    {
     "name": "stderr",
     "output_type": "stream",
     "text": [
      "/Users/itacdonev/opt/miniconda3/envs/nasamars/lib/python3.9/site-packages/xgboost/compat.py:36: FutureWarning: pandas.Int64Index is deprecated and will be removed from pandas in a future version. Use pandas.Index with the appropriate dtype instead.\n",
      "  from pandas import MultiIndex, Int64Index\n"
     ]
    }
   ],
   "source": [
    "## Environment\n",
    "# Change main system path to be able to run code from src folder\n",
    "import sys\n",
    "p = sys.path[0]\n",
    "# Mac OS\n",
    "if sys.path[0].endswith('/models'):\n",
    "    main_path = p[:-len('/models')]\n",
    "sys.path[0] = main_path\n",
    "\n",
    "import os, gc\n",
    "from termcolor import colored\n",
    "from tqdm import tqdm\n",
    "import pandas as pd\n",
    "import numpy as np\n",
    "import matplotlib.pyplot as plt\n",
    "from sklearn.metrics import log_loss\n",
    "from src import (config, fe, features, feature_selection, \n",
    "                 preprocess, training)\n",
    "from src.fe import CreateFeatures"
   ]
  },
  {
   "cell_type": "code",
   "execution_count": 3,
   "metadata": {},
   "outputs": [
    {
     "name": "stdout",
     "output_type": "stream",
     "text": [
      "Metadata: (1570, 5)\n",
      "Train labels: (766, 11)\n",
      "Train labels: (293, 11)\n",
      "Submission: (804, 11)\n",
      "['basalt', 'carbonate', 'chloride', 'iron_oxide', 'oxalate', 'oxychlorine', 'phyllosilicate', 'silicate', 'sulfate', 'sulfide']\n",
      "Labels w/o SAM : (1047, 11)\n"
     ]
    }
   ],
   "source": [
    "# DATA PREPARATION\n",
    "# ===== LOAD DATA ======\n",
    "metadata = pd.read_csv(config.DATA_DIR + 'metadata.csv')\n",
    "print(f'Metadata: {metadata.shape}')\n",
    "\n",
    "train_labels = pd.read_csv(config.DATA_DIR + 'train_labels.csv')\n",
    "print(f'Train labels: {train_labels.shape}')\n",
    "\n",
    "valid_labels = pd.read_csv(config.DATA_DIR + 'val_labels.csv')\n",
    "print(f'Train labels: {valid_labels.shape}')\n",
    "\n",
    "# Combine train and valid labels\n",
    "trvl_labels = pd.concat([train_labels, valid_labels], axis = 0)\n",
    "\n",
    "submission = pd.read_csv(config.DATA_DIR + 'submission_format.csv')\n",
    "print(f'Submission: {submission.shape}')\n",
    "\n",
    "# ===== FILE PATHS OF SAMPLES =====\n",
    "train_files = metadata[metadata.split == 'train']['features_path'].to_dict()\n",
    "valid_files = metadata[metadata.split == 'val']['features_path'].to_dict()\n",
    "test_files = metadata[metadata.split == 'test']['features_path'].to_dict()\n",
    "# Train & Valid files\n",
    "trva_files = train_files.copy()\n",
    "trva_files.update(valid_files)\n",
    "# All files\n",
    "all_test_files = valid_files.copy()\n",
    "all_test_files.update(test_files)\n",
    "\n",
    "# Define SAM testbed files\n",
    "sam_files = metadata[(metadata.instrument_type == 'sam_testbed') & (metadata.split == 'train')]['features_path']\n",
    "sam_files = sam_files.to_dict()\n",
    "\n",
    "# Get the names of the target columns in a list\n",
    "target_labels_list = [i for i in train_labels.columns if i not in ['sample_id']]\n",
    "print(target_labels_list)\n",
    "\n",
    "# SAM testbed labels\n",
    "sam_labels = train_labels.drop(train_labels.tail(len(sam_files)).index)\n",
    "sam_labels = pd.concat([sam_labels, valid_labels], axis=0)\n",
    "print(f'Labels w/o SAM : {sam_labels.shape}')"
   ]
  },
  {
   "cell_type": "code",
   "execution_count": 4,
   "metadata": {},
   "outputs": [],
   "source": [
    "FTS_NAME = 'fts_mra_tempmz_slope_cntpk_spectra_mzstats'  # Name of the file with base features for TRAINING\n",
    "COMPUTE_FTS = True                                      # Should the features be recomputed\n",
    "COMPUTE_FTS_SAM = False                                 # Compute SAM test bed\n",
    "MODEL_ALGO = 'XGB_opt'                                  # Name of the classifier\n",
    "MODEL_NAME = FTS_NAME + '_' + MODEL_ALGO                # Name of the model\n",
    "COMBINE_FTS = ['fts_mra_tempmz_slope_cntpk_spectra', 'fts_mzstats']   # Feature sets to combine for training\n",
    "NEW_FEATURES = None                           # Name of a data frame with new features to add to model\n",
    "TRAIN_FTS_SFM = ['fts_mra_tempmz_slope_cntpk_spectra', 'fts_mzstats'] # Features selected with SMF() for training.    "
   ]
  },
  {
   "cell_type": "markdown",
   "metadata": {},
   "source": [
    "**COMPUTE FEATURES**\n",
    "\n",
    "- Change the `fe._` method depending on the feature that we wish to calculate"
   ]
  },
  {
   "cell_type": "code",
   "execution_count": 5,
   "metadata": {},
   "outputs": [
    {
     "name": "stdout",
     "output_type": "stream",
     "text": [
      "Computing features ... \n",
      "\u001b[34mtrain => (766, 2486)\u001b[0m\n",
      "\u001b[34mtrain & valid => (1059, 2486)\u001b[0m\n",
      "\u001b[34mvalid & test => (804, 2486)\u001b[0m\n"
     ]
    }
   ],
   "source": [
    "# Check if feature is computed and load it or choose to compute it\n",
    "check_file = 0\n",
    "for i in ['_tr', '_trvl', '_vlte']:\n",
    "    check_file += os.path.exists(os.path.join(config.DATA_DIR_OUT, FTS_NAME +\n",
    "                                              str(i) + '.csv'))\n",
    "\n",
    "if (check_file == 3) & (not COMPUTE_FTS):\n",
    "    print('Reading features ... ')\n",
    "    X_tr = pd.read_csv(os.path.join(config.DATA_DIR_OUT, FTS_NAME + '_tr.csv'))\n",
    "    print(X_tr.shape)\n",
    "    X_trvl = pd.read_csv(os.path.join(config.DATA_DIR_OUT, FTS_NAME + '_trvl.csv'))\n",
    "    print(X_trvl.shape)\n",
    "    X_vlte = pd.read_csv(os.path.join(config.DATA_DIR_OUT, FTS_NAME + '_vlte.csv'))\n",
    "    print(X_vlte.shape)\n",
    "    \n",
    "else:\n",
    "    print('Computing features ... ')\n",
    "    # ----- TRAIN -----\n",
    "    fe = CreateFeatures(metadata, train_files, 'tr', FTS_NAME)\n",
    "    X_tr = fe.combine_features(COMBINE_FTS)\n",
    "    print(colored(f'train => {X_tr.shape}', 'blue'))\n",
    "    \n",
    "    # ----- TRAIN & VALID -----\n",
    "    fe = CreateFeatures(metadata, trva_files, 'trvl', FTS_NAME)\n",
    "    X_trvl = fe.combine_features(COMBINE_FTS)\n",
    "    print(colored(f'train & valid => {X_trvl.shape}', 'blue'))\n",
    "    \n",
    "    # ----- VALID & TEST -----\n",
    "    fe = CreateFeatures(metadata, all_test_files, 'vlte', FTS_NAME)\n",
    "    X_vlte = fe.combine_features(COMBINE_FTS)\n",
    "    print(colored(f'valid & test => {X_vlte.shape}', 'blue'))\n",
    "    \n",
    "if COMPUTE_FTS_SAM:\n",
    "    print(f'\\nCreating SAM testbed samples ...')\n",
    "    # Training without SAM testbed\n",
    "    X_tr_sam = X_tr.drop(X_tr.tail(len(sam_files)).index).copy()\n",
    "    X_tr_sam = pd.concat([X_tr_sam, X_trvl.iloc[len(train_files):,:]], axis=0)\n",
    "    print(f'Train shape: {X_tr_sam.shape}')\n",
    "    # Validation data\n",
    "    X_vl_sam = X_tr.tail(len(sam_files)).copy()\n",
    "    print(f'Valid shape: {X_vl_sam.shape}')"
   ]
  },
  {
   "cell_type": "markdown",
   "metadata": {},
   "source": [
    "## MODELS"
   ]
  },
  {
   "cell_type": "markdown",
   "metadata": {},
   "source": [
    "**TRAIN**"
   ]
  },
  {
   "cell_type": "code",
   "execution_count": 6,
   "metadata": {},
   "outputs": [
    {
     "name": "stdout",
     "output_type": "stream",
     "text": [
      "Adding fts_mra_tempmz_slope_cntpk_spectra\n",
      "Adding fts_mzstats\n",
      "Saving fts_mra_tempmz_slope_cntpk_spectra_mzstats_XGB_opt_tr_SFM_COLS.txt\n"
     ]
    }
   ],
   "source": [
    "split_type = 'tr'\n",
    "feature_selection.combine_sfm_features(\n",
    "                    base_sfm_features_name=TRAIN_FTS_SFM,\n",
    "                    fitted_model_algo=MODEL_ALGO,\n",
    "                    target_labels_list=target_labels_list,\n",
    "                    split_type=split_type,\n",
    "                    fitted_model_name=FTS_NAME)\n",
    "TRAIN_FTS_SFM = FTS_NAME"
   ]
  },
  {
   "cell_type": "code",
   "execution_count": 8,
   "metadata": {},
   "outputs": [
    {
     "name": "stdout",
     "output_type": "stream",
     "text": [
      "\u001b[34mLoading feature column names\u001b[0m\n",
      "Reading fts_mra_tempmz_slope_cntpk_spectra_mzstats_XGB_opt_tr_COLS_sfm.txt\n"
     ]
    },
    {
     "ename": "FileNotFoundError",
     "evalue": "[Errno 2] No such file or directory: 'fts_mra_tempmz_slope_cntpk_spectra_mzstats_XGB_opt_tr_COLS_sfm.txt'",
     "output_type": "error",
     "traceback": [
      "\u001b[0;31m---------------------------------------------------------------------------\u001b[0m",
      "\u001b[0;31mFileNotFoundError\u001b[0m                         Traceback (most recent call last)",
      "\u001b[1;32m/Users/itacdonev/Documents/PROJECTS/MarsSpectrometry/models/fts_mra_tempmz_slope_cntpk_spectra_mzstat_XGB_opt.ipynb Cell 10'\u001b[0m in \u001b[0;36m<cell line: 19>\u001b[0;34m()\u001b[0m\n\u001b[1;32m      <a href='vscode-notebook-cell:/Users/itacdonev/Documents/PROJECTS/MarsSpectrometry/models/fts_mra_tempmz_slope_cntpk_spectra_mzstat_XGB_opt.ipynb#ch0000009?line=4'>5</a>\u001b[0m smf \u001b[39m=\u001b[39m feature_selection\u001b[39m.\u001b[39mSelectModelFeatures(\n\u001b[1;32m      <a href='vscode-notebook-cell:/Users/itacdonev/Documents/PROJECTS/MarsSpectrometry/models/fts_mra_tempmz_slope_cntpk_spectra_mzstat_XGB_opt.ipynb#ch0000009?line=5'>6</a>\u001b[0m     base_sfm_features_name\u001b[39m=\u001b[39mTRAIN_FTS_SFM,\n\u001b[1;32m      <a href='vscode-notebook-cell:/Users/itacdonev/Documents/PROJECTS/MarsSpectrometry/models/fts_mra_tempmz_slope_cntpk_spectra_mzstat_XGB_opt.ipynb#ch0000009?line=6'>7</a>\u001b[0m     base_fitted_model_name\u001b[39m=\u001b[39mTRAIN_FTS_SFM \u001b[39m+\u001b[39m \u001b[39m'\u001b[39m\u001b[39m_\u001b[39m\u001b[39m'\u001b[39m \u001b[39m+\u001b[39m MODEL_ALGO,\n\u001b[0;32m   (...)\u001b[0m\n\u001b[1;32m     <a href='vscode-notebook-cell:/Users/itacdonev/Documents/PROJECTS/MarsSpectrometry/models/fts_mra_tempmz_slope_cntpk_spectra_mzstat_XGB_opt.ipynb#ch0000009?line=15'>16</a>\u001b[0m     valid_files\u001b[39m=\u001b[39mvalid_files,\n\u001b[1;32m     <a href='vscode-notebook-cell:/Users/itacdonev/Documents/PROJECTS/MarsSpectrometry/models/fts_mra_tempmz_slope_cntpk_spectra_mzstat_XGB_opt.ipynb#ch0000009?line=16'>17</a>\u001b[0m     valid_labels\u001b[39m=\u001b[39mvalid_labels)\n\u001b[1;32m     <a href='vscode-notebook-cell:/Users/itacdonev/Documents/PROJECTS/MarsSpectrometry/models/fts_mra_tempmz_slope_cntpk_spectra_mzstat_XGB_opt.ipynb#ch0000009?line=18'>19</a>\u001b[0m \u001b[39mif\u001b[39;00m TRAIN_FTS_SFM:\n\u001b[1;32m     <a href='vscode-notebook-cell:/Users/itacdonev/Documents/PROJECTS/MarsSpectrometry/models/fts_mra_tempmz_slope_cntpk_spectra_mzstat_XGB_opt.ipynb#ch0000009?line=19'>20</a>\u001b[0m     \u001b[39m# Loads FTS_NAME_tr_SFM_COLS - cols to train with if\u001b[39;00m\n\u001b[1;32m     <a href='vscode-notebook-cell:/Users/itacdonev/Documents/PROJECTS/MarsSpectrometry/models/fts_mra_tempmz_slope_cntpk_spectra_mzstat_XGB_opt.ipynb#ch0000009?line=20'>21</a>\u001b[0m     \u001b[39m# training is done without full column lenght of input data\u001b[39;00m\n\u001b[0;32m---> <a href='vscode-notebook-cell:/Users/itacdonev/Documents/PROJECTS/MarsSpectrometry/models/fts_mra_tempmz_slope_cntpk_spectra_mzstat_XGB_opt.ipynb#ch0000009?line=21'>22</a>\u001b[0m     TRAIN_FTS_DICT \u001b[39m=\u001b[39m smf\u001b[39m.\u001b[39;49mload_features()\n\u001b[1;32m     <a href='vscode-notebook-cell:/Users/itacdonev/Documents/PROJECTS/MarsSpectrometry/models/fts_mra_tempmz_slope_cntpk_spectra_mzstat_XGB_opt.ipynb#ch0000009?line=22'>23</a>\u001b[0m \u001b[39melse\u001b[39;00m: \n\u001b[1;32m     <a href='vscode-notebook-cell:/Users/itacdonev/Documents/PROJECTS/MarsSpectrometry/models/fts_mra_tempmz_slope_cntpk_spectra_mzstat_XGB_opt.ipynb#ch0000009?line=23'>24</a>\u001b[0m     TRAIN_FTS_DICT \u001b[39m=\u001b[39m \u001b[39mNone\u001b[39;00m\n",
      "File \u001b[0;32m~/Documents/PROJECTS/MarsSpectrometry/src/feature_selection.py:134\u001b[0m, in \u001b[0;36mSelectModelFeatures.load_features\u001b[0;34m(self)\u001b[0m\n\u001b[1;32m    <a href='file:///Users/itacdonev/Documents/PROJECTS/MarsSpectrometry/src/feature_selection.py?line=129'>130</a>\u001b[0m     path_cols \u001b[39m=\u001b[39m \u001b[39mself\u001b[39m\u001b[39m.\u001b[39mbase_sfm_features_name \u001b[39m+\u001b[39m \u001b[39m'\u001b[39m\u001b[39m_\u001b[39m\u001b[39m'\u001b[39m \u001b[39m+\u001b[39m\\\n\u001b[1;32m    <a href='file:///Users/itacdonev/Documents/PROJECTS/MarsSpectrometry/src/feature_selection.py?line=130'>131</a>\u001b[0m                 \u001b[39mself\u001b[39m\u001b[39m.\u001b[39mfitted_model_algo \u001b[39m+\u001b[39m \u001b[39m'\u001b[39m\u001b[39m_\u001b[39m\u001b[39m'\u001b[39m \u001b[39m+\u001b[39m\\\n\u001b[1;32m    <a href='file:///Users/itacdonev/Documents/PROJECTS/MarsSpectrometry/src/feature_selection.py?line=131'>132</a>\u001b[0m                 \u001b[39mself\u001b[39m\u001b[39m.\u001b[39msplit_type \u001b[39m+\u001b[39m \u001b[39m'\u001b[39m\u001b[39m_COLS_sfm.txt\u001b[39m\u001b[39m'\u001b[39m\n\u001b[1;32m    <a href='file:///Users/itacdonev/Documents/PROJECTS/MarsSpectrometry/src/feature_selection.py?line=132'>133</a>\u001b[0m \u001b[39mprint\u001b[39m(\u001b[39mf\u001b[39m\u001b[39m'\u001b[39m\u001b[39mReading \u001b[39m\u001b[39m{\u001b[39;00mpath_cols\u001b[39m}\u001b[39;00m\u001b[39m'\u001b[39m)\n\u001b[0;32m--> <a href='file:///Users/itacdonev/Documents/PROJECTS/MarsSpectrometry/src/feature_selection.py?line=133'>134</a>\u001b[0m \u001b[39mwith\u001b[39;00m \u001b[39mopen\u001b[39;49m(path_cols) \u001b[39mas\u001b[39;00m json_file:\n\u001b[1;32m    <a href='file:///Users/itacdonev/Documents/PROJECTS/MarsSpectrometry/src/feature_selection.py?line=134'>135</a>\u001b[0m         new_features_dict \u001b[39m=\u001b[39m json\u001b[39m.\u001b[39mload(json_file)\n\u001b[1;32m    <a href='file:///Users/itacdonev/Documents/PROJECTS/MarsSpectrometry/src/feature_selection.py?line=136'>137</a>\u001b[0m \u001b[39m# Add features from add-on features: new_features_file_name\u001b[39;00m\n",
      "\u001b[0;31mFileNotFoundError\u001b[0m: [Errno 2] No such file or directory: 'fts_mra_tempmz_slope_cntpk_spectra_mzstats_XGB_opt_tr_COLS_sfm.txt'"
     ]
    }
   ],
   "source": [
    "# ===== TRAIN =====\n",
    "split_type = 'tr'\n",
    "\n",
    "# Initialize the feature selection class\n",
    "smf = feature_selection.SelectModelFeatures(\n",
    "    base_sfm_features_name=TRAIN_FTS_SFM,\n",
    "    base_fitted_model_name=TRAIN_FTS_SFM + '_' + MODEL_ALGO,\n",
    "    target_labels_list=target_labels_list,\n",
    "    new_features_file_name=NEW_FEATURES,\n",
    "    fitted_model_name=MODEL_NAME,\n",
    "    fitted_model_algo=MODEL_ALGO,\n",
    "    X_tr=X_tr,\n",
    "    X_vlte=X_vlte,\n",
    "    split_type='tr',\n",
    "    train_labels=train_labels,\n",
    "    valid_files=valid_files,\n",
    "    valid_labels=valid_labels)\n",
    "\n",
    "if TRAIN_FTS_SFM:\n",
    "    # Loads FTS_NAME_tr_SFM_COLS - cols to train with if\n",
    "    # training is done without full column lenght of input data\n",
    "    TRAIN_FTS_DICT = smf.load_features()\n",
    "else: \n",
    "    TRAIN_FTS_DICT = None\n",
    "\n",
    "# Train the model- saves features as MODEL_NAME_tr_COLS.txt'\n",
    "cvloss, submission_model = training.train_tbl(\n",
    "    df_train=X_tr,\n",
    "    df_labels=train_labels,\n",
    "    target_list=target_labels_list,\n",
    "    df_test=X_vlte,\n",
    "    split_type=split_type,\n",
    "    model_algo=MODEL_ALGO,\n",
    "    sub_name=MODEL_NAME + '_' + split_type,\n",
    "    base_model_name=TRAIN_FTS_SFM + '_' + MODEL_ALGO + '_' + split_type + '_sfm',\n",
    "    fts_select_cols=TRAIN_FTS_DICT,\n",
    "    )\n",
    "\n",
    "# Compute validation loss when full model is trained\n",
    "mloss, mloss_avg = training.compute_valid_loss(submission_model,\n",
    "                                               valid_files, valid_labels,\n",
    "                                               target_labels_list,\n",
    "                                               sub_name=MODEL_NAME + '_' + split_type,\n",
    "                                               fts_select_cols=TRAIN_FTS_DICT)\n",
    "print(colored(f'VAL LogLoss: {np.round(mloss_avg, 5)}', 'green'))"
   ]
  },
  {
   "cell_type": "markdown",
   "metadata": {},
   "source": [
    "**TRAIN & VALID**"
   ]
  },
  {
   "cell_type": "markdown",
   "metadata": {},
   "source": [
    "**SAM TRAINING**"
   ]
  },
  {
   "cell_type": "code",
   "execution_count": null,
   "metadata": {},
   "outputs": [],
   "source": []
  }
 ],
 "metadata": {
  "interpreter": {
   "hash": "cfa1bb730ddeebc089519bcd4ec0e31841e14f65d7c169a2b301ba6e4e1462a0"
  },
  "kernelspec": {
   "display_name": "Python 3.9.7 ('nasamars')",
   "language": "python",
   "name": "python3"
  },
  "language_info": {
   "codemirror_mode": {
    "name": "ipython",
    "version": 3
   },
   "file_extension": ".py",
   "mimetype": "text/x-python",
   "name": "python",
   "nbconvert_exporter": "python",
   "pygments_lexer": "ipython3",
   "version": "3.9.7"
  },
  "orig_nbformat": 4
 },
 "nbformat": 4,
 "nbformat_minor": 2
}
